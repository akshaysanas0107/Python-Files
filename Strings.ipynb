{
  "cells": [
    {
      "cell_type": "code",
      "execution_count": null,
      "metadata": {
        "colab": {
          "base_uri": "https://localhost:8080/"
        },
        "id": "sBRPd9iFvHvg",
        "outputId": "0501f10f-6090-41ef-d619-e3a92f65af88"
      },
      "outputs": [],
      "source": [
        "# Strings :-\n",
        "#Sequence of characters or combinations of it\n",
        "\n",
        "# In How many you can represent the string:-\n",
        "\n",
        "single_quoted = 'Coachx'\n",
        "print(\"The Single Quoted String is :--\" , single_quoted)\n",
        "\n",
        "double_quoted = \"Coachx\"\n",
        "print(\"The Double Quoted String is :--\" , double_quoted) #most usable one\n",
        "\n",
        "my_string = ''' Hello '''\n",
        "print(my_string)\n",
        "\n",
        "\n",
        "triple_quoted_str = \"\"\" Hello\n",
        "                            welcome to the world of Python\"\"\"\n",
        "\n",
        "print(\"\"\"Triple Quoted\n",
        "              String is :--\"\"\" ,triple_quoted_str)\n",
        "\n",
        "\n"
      ]
    },
    {
      "cell_type": "code",
      "execution_count": null,
      "metadata": {
        "id": "U0qS57qTxVux"
      },
      "outputs": [],
      "source": [
        "#Very IMp :--\n",
        "# Indexing always starts from zero\n",
        "# Index start from 0 to n-1(n is the total number of charcaters)\n",
        "#Even space is Counted in indexing\n",
        "\n"
      ]
    },
    {
      "cell_type": "code",
      "execution_count": null,
      "metadata": {
        "colab": {
          "base_uri": "https://localhost:8080/"
        },
        "id": "ndslDd92vieH",
        "outputId": "c12758f6-bd52-4db6-ced5-b2f247a0c661"
      },
      "outputs": [],
      "source": [
        "Lang = \"Python\"\n",
        "print(Lang)\n"
      ]
    },
    {
      "cell_type": "code",
      "execution_count": null,
      "metadata": {
        "colab": {
          "base_uri": "https://localhost:8080/"
        },
        "id": "uolwiKYwyU_Y",
        "outputId": "47041f38-3c11-4ce9-a3a6-208d5dc93d12"
      },
      "outputs": [],
      "source": [
        "s = \"Hello Python\"\n",
        "print(s)\n",
        "\n",
        "#Single accessible indexing\n",
        "print(s[0])\n",
        "print(s[1])\n",
        "print(s[4])\n",
        "print(s[6])\n",
        "\n",
        "#Pair Accessible Indexing:-\n",
        "# var_name[start_index : ending_index]\n",
        "print(s[0:5])\n",
        "print(s[6:10])\n",
        "print(s[2:]) # this is for printing all characters after start indexes\n",
        "print(s[:6]) # This is for printing the all characters before ending indexes\n",
        "\n",
        "\n",
        "#Negative Indexing :--\n",
        "print(s[-1])\n",
        "print(s[-5:])\n",
        "print(s[:-5])\n",
        "\n",
        "\n",
        "#Stepwise Indexing:-(Advanced Slicing)\n",
        "print(s[1:10:2])\n",
        "\n"
      ]
    },
    {
      "cell_type": "code",
      "execution_count": null,
      "metadata": {
        "colab": {
          "base_uri": "https://localhost:8080/"
        },
        "id": "LgEPwDOX3lvX",
        "outputId": "2ccc4462-be34-4939-d472-7beb9ad6beef"
      },
      "outputs": [],
      "source": [
        "#Manipulations of the strings :--\n",
        "msg = \"Hello World!\"\n",
        "print(\"Updated String :-\", msg[:6]+'Python')\n",
        "print(type(msg))\n",
        "\n",
        "print(id(msg))"
      ]
    },
    {
      "cell_type": "code",
      "execution_count": null,
      "metadata": {
        "colab": {
          "base_uri": "https://localhost:8080/"
        },
        "id": "-8y2lE854KKN",
        "outputId": "ff4b6fb0-8403-48fb-909e-3d6f0a8f8ab4"
      },
      "outputs": [],
      "source": [
        "#Escape Charcaters\n",
        "# \\n :- newline\n",
        "# \\b:- backspace\n",
        "# \\xnos :- hex representations\n",
        "\n",
        "\n",
        "print(\"This is printed\\n in two lines\")\n",
        "print(\"This is \\x48\\x45\\x58 representations\")"
      ]
    },
    {
      "cell_type": "code",
      "execution_count": null,
      "metadata": {
        "id": "9PpI-qf85ZNe"
      },
      "outputs": [],
      "source": [
        "#String Speical Operators :---\n",
        "# + :- Concatenations of the string\n",
        "# * :- Repetition of the strings\n",
        "# [] :- Slice\n",
        "# [:] :- Range of slice\n",
        "# in  and not in :- membership\n",
        "# % :- String  Formatting"
      ]
    },
    {
      "cell_type": "code",
      "execution_count": null,
      "metadata": {
        "colab": {
          "base_uri": "https://localhost:8080/"
        },
        "id": "1fCCEapD6tZ9",
        "outputId": "925ff6e1-fcf9-4cfe-8fa1-55e722efd9da"
      },
      "outputs": [],
      "source": [
        "\n",
        "# + :- Concatenations of the string\n",
        "msg = \"Hello World!\"\n",
        "print(\"Updated String :-\", msg[:6]+'Python')\n",
        "print(type(msg))\n",
        "\n",
        "print(id(msg))\n",
        "\n",
        "\n",
        "str1 = \"Hello\"\n",
        "str2 = \" Python\"\n",
        "str3 = str1+str2\n",
        "print(str3)\n",
        "\n"
      ]
    },
    {
      "cell_type": "code",
      "execution_count": null,
      "metadata": {
        "colab": {
          "base_uri": "https://localhost:8080/"
        },
        "id": "a8qNqR5i68a_",
        "outputId": "613b52c7-4cb8-457d-ffdd-99fb511f1329"
      },
      "outputs": [],
      "source": [
        "# * :- Repetition of the strings\n",
        "str_n = \"Hello \"\n",
        "print((str_n)*10)\n",
        "\n",
        "print(\"H\" in str_n)\n",
        "print(\"P\" in str_n)\n",
        "\n",
        "print(\"H\" not in str_n)\n",
        "print(\"P\" not in str_n)"
      ]
    },
    {
      "cell_type": "code",
      "execution_count": null,
      "metadata": {
        "colab": {
          "base_uri": "https://localhost:8080/"
        },
        "id": "Qy8HQVgX7YN1",
        "outputId": "52d80472-4a15-4cf6-d3ca-a597b9390ed5"
      },
      "outputs": [],
      "source": [
        "# % :- String  Formatting :--\n",
        "# %c :- chacracter\n",
        "# %s :- string\n",
        "\n",
        "\n",
        "val = \"R\"\n",
        "print(\"The name Ram starts with letter = %c \"%val)\n",
        "\n",
        "\n",
        "val = \"Ram\"\n",
        "print(\"The name Ram starts with letter = %s \"%val)\n"
      ]
    },
    {
      "cell_type": "code",
      "execution_count": 5,
      "metadata": {
        "colab": {
          "base_uri": "https://localhost:8080/"
        },
        "id": "OxqHhPYO9DFn",
        "outputId": "2fc879b8-03b0-458c-f392-83eb8c2fc82c"
      },
      "outputs": [
        {
          "name": "stdout",
          "output_type": "stream",
          "text": [
            "Python programming\n",
            "2\n",
            "1\n",
            "[(0, 'Orange'), (1, 'Mango'), (2, 'Banana'), (3, 'PineApple')]\n",
            "[(1, 'Orange'), (2, 'Mango'), (3, 'Banana'), (4, 'PineApple')]\n",
            "7\n",
            "-1\n"
          ]
        }
      ],
      "source": [
        "#Built-in String Methods:---\n",
        "#Make the first letter of the string Capital:-\n",
        "s1 = \"python Programming\"\n",
        "print(s1.capitalize())\n",
        "\n",
        "\n",
        "#Count the number of times str occurs or single characters occurs in the str\n",
        "print(s1.count('o'))\n",
        "\n",
        "print(s1.count('o' , 5 , 18))\n",
        "\n",
        "\n",
        "\n",
        "#enumerate():--\n",
        "s2 = [\"Orange\" , \"Mango\" , \"Banana\" , \"PineApple\"]\n",
        "s3 = enumerate(s2)\n",
        "print(list(s3))\n",
        "\n",
        "s3 = enumerate(s2,1)\n",
        "print(list(s3))\n",
        "\n",
        "\n",
        "#find(str , beg , end):--\n",
        "print(s1.find(\"Prog\"))\n",
        "\n",
        "print(s1.find(\"Prog\", 15))\n",
        "\n",
        "\n"
      ]
    },
    {
      "cell_type": "code",
      "execution_count": 4,
      "metadata": {
        "colab": {
          "base_uri": "https://localhost:8080/"
        },
        "id": "rv7JY6XsB5Bj",
        "outputId": "cdeb3c25-0a00-4c3f-ce5e-c237020dd4da"
      },
      "outputs": [
        {
          "name": "stdout",
          "output_type": "stream",
          "text": [
            "True\n",
            "True\n",
            "True\n",
            "False\n"
          ]
        }
      ],
      "source": [
        "# isalnum():- it Checks the whether string have alpha numeric characters or not\n",
        "\n",
        "\n",
        "str1 = \"python3\"\n",
        "print(str1.isalnum())\n",
        "\n",
        "str2 = \"Python\"\n",
        "print(str2.isalnum())\n",
        "\n",
        "nos3 = \"1234\"\n",
        "print(nos3.isalnum())\n",
        "\n",
        "print(s1.isalnum())\n",
        "\n",
        "\n",
        "\n",
        "\n"
      ]
    },
    {
      "cell_type": "code",
      "execution_count": null,
      "metadata": {
        "id": "QFd1yIb9Jo0Q"
      },
      "outputs": [],
      "source": [
        "# Assignments nos - 4  :"
      ]
    },
    {
      "cell_type": "code",
      "execution_count": 29,
      "metadata": {
        "id": "KIU_Jg9KEoho"
      },
      "outputs": [
        {
          "name": "stdout",
          "output_type": "stream",
          "text": [
            "Number 123321 is a Palindrome\n"
          ]
        }
      ],
      "source": [
        "#Program to check the nos is palindrome or not\n",
        "\n",
        "n = 123321\n",
        "\n",
        "s1 = str(n)\n",
        "s2 = s1[::-1]\n",
        "\n",
        "if s1 == s2:\n",
        "    print(f\"Number {n} is a Palindrome\")\n",
        "else:\n",
        "    print(f\"Number {n} is NOT a Palindrome\")"
      ]
    },
    {
      "cell_type": "code",
      "execution_count": 33,
      "metadata": {
        "id": "GO9N-m44FiRv"
      },
      "outputs": [
        {
          "name": "stdout",
          "output_type": "stream",
          "text": [
            "\n",
            "* \n",
            "* * \n",
            "* * * \n",
            "* * * * \n",
            "* * * * * \n"
          ]
        }
      ],
      "source": [
        "# #Print the following pattern:-\n",
        "# O/P:-\n",
        "# *\n",
        "# * *\n",
        "# * * *\n",
        "# * * * *\n",
        "# * * * * *\n",
        "\n",
        "for i in range(6):\n",
        "    for j in range(i):\n",
        "        print(\"*\",end=' ')\n",
        "    print()"
      ]
    },
    {
      "cell_type": "code",
      "execution_count": 52,
      "metadata": {
        "id": "Qo2kRZ55F8ko"
      },
      "outputs": [
        {
          "name": "stdout",
          "output_type": "stream",
          "text": [
            "* * * * * \n",
            "* * * * \n",
            "* * * \n",
            "* * \n",
            "* \n"
          ]
        }
      ],
      "source": [
        "# #Print the following pattern:-\n",
        "# O/P:-\n",
        "# * * * * *\n",
        "# * * * *\n",
        "# * * *\n",
        "# * *\n",
        "# *\n",
        "\n",
        "for i in range(5,0,-1):\n",
        "    for j in range(i):\n",
        "        print(\"*\",end=' ')\n",
        "    print()\n"
      ]
    },
    {
      "cell_type": "code",
      "execution_count": 60,
      "metadata": {
        "id": "-Z5rHkgbDAoY"
      },
      "outputs": [
        {
          "name": "stdout",
          "output_type": "stream",
          "text": [
            "False\n",
            "True\n",
            "False\n",
            "True\n",
            "False\n",
            "True\n",
            "False\n",
            "True\n"
          ]
        }
      ],
      "source": [
        "\n",
        "# Try out this built in functions :-\n",
        "# isspace()\n",
        "# isalpha()\n",
        "# islower()\n",
        "# isupper()\n",
        "# isnumeric()\n",
        "\n",
        "s1 = \"Hello CoachX Team\"\n",
        "s2 = \" \"\n",
        "s3 = \"akshay\"\n",
        "s4 = \"1234\"\n",
        "\n",
        "print(s1.isspace()) \n",
        "print(s2.isspace())  #Returns True if string has all whitespaces\n",
        "\n",
        "print(s1.isalpha())\n",
        "print(s3.isalpha()) #returns True if string has only alphabets\n",
        "\n",
        "print(s1.islower())\n",
        "print(s3.islower()) #Retuns True if string is in Lower case\n",
        "\n",
        "print(s1.isupper()) #Retunr Truen if string is in upper case\n",
        "\n",
        "print(s4.isnumeric()) #Return True if string contains numeric characters\n"
      ]
    },
    {
      "cell_type": "code",
      "execution_count": 62,
      "metadata": {
        "id": "8Ioy3V78E_3N"
      },
      "outputs": [
        {
          "name": "stdout",
          "output_type": "stream",
          "text": [
            "String nitin is a Palindrome\n"
          ]
        }
      ],
      "source": [
        "#Program to check the string is palindrome or not:--\n",
        "# Example if string is :-\n",
        "# 1)nitin then its palindrome is nitin\n",
        "# 2)abc then its palindrome is cba\n",
        "\n",
        "\n",
        "s = \"nitin\"\n",
        "\n",
        "s1 = str(s)\n",
        "s2 = s1[::-1]\n",
        "\n",
        "if s1 == s2:\n",
        "    print(f\"String {s} is a Palindrome\")\n",
        "else:\n",
        "    print(f\"String {s} is NOT a Palindrome\")"
      ]
    },
    {
      "cell_type": "code",
      "execution_count": 67,
      "metadata": {
        "id": "ZuoHvYciGJWG"
      },
      "outputs": [
        {
          "name": "stdout",
          "output_type": "stream",
          "text": [
            "$ksh$y\n"
          ]
        }
      ],
      "source": [
        "# Write a program to replace all the occurence of 'a' with $ in a string\n",
        "\n",
        "s1 = \"akshay\"\n",
        "\n",
        "s2 = s1.replace('a','$')\n",
        "\n",
        "print(s2)\n",
        "\n"
      ]
    },
    {
      "cell_type": "code",
      "execution_count": 81,
      "metadata": {
        "id": "JqkNns9NGa9W"
      },
      "outputs": [
        {
          "name": "stdout",
          "output_type": "stream",
          "text": [
            "['abc', 'xyz']\n",
            "xyzabc\n"
          ]
        }
      ],
      "source": [
        "# Program to get a single string from two given strings  , seprated by a and swap the first two characters of each string\n",
        "# Sample String :- 'abc','xyz'\n",
        "# Expected Output :- 'xyzabc'\n",
        "\n",
        "s = input(\"Enter 2 comma seperated strings:\")\n",
        "s = s.split(',')\n",
        "print(s)\n",
        "\n",
        "s1 = s[0]\n",
        "s2 = s[1]\n",
        "\n",
        "s3 = s2+s1\n",
        "\n",
        "print(s3)\n"
      ]
    },
    {
      "cell_type": "code",
      "execution_count": null,
      "metadata": {
        "id": "jW7HjrudIUkP"
      },
      "outputs": [],
      "source": [
        "#Answers below Question without running the programs:---\n",
        "\n",
        "# 1. Which of the following is not used as loop in Python?\n",
        "\n",
        "# A. for loop\n",
        "# B. while loop \n",
        "# C. do-while loop  *\n",
        "# D. None of the above\n",
        "\n",
        "\n",
        "\n",
        "# 2. Which of the following is False regarding loops in Python?\n",
        "\n",
        "# A. Loops are used to perform certain tasks repeatedly.\n",
        "# B. While loop is used when multiple statements are to executed repeatedly until the given condition becomes False *\n",
        "# C. While loop is used when multiple statements are to executed repeatedly until the given condition becomes True.\n",
        "# D. for loop can be used to iterate through the elements of lists.\n",
        "\n",
        "\n",
        "\n",
        "# 3. Which of the following is True regarding loops in Python?\n",
        "\n",
        "# A. Loops should be ended with keyword \"end\".\n",
        "# B. No loop can be used to iterate through the elements of strings.\n",
        "# C. Keyword \"break\" can be used to bring control out of the current loop. *\n",
        "# D. Keyword \"continue\" is used to continue with the remaining statements inside the loop.\n",
        "\n",
        "\n",
        "\n",
        "# 4. What will be the output of given Python code?\n",
        "\n",
        "# n=7\n",
        "\n",
        "# c=0\n",
        "\n",
        "# while(n):\n",
        "\n",
        "#     if(n>5):\n",
        "\n",
        "#         c=c+n-1               c->6,11\n",
        "\n",
        "#         n=n-1                 n->6,5\n",
        "\n",
        "#     else:\n",
        "\n",
        "#         break\n",
        "\n",
        "# print(n)\n",
        "\n",
        "# print(c)\n",
        "\n",
        "\n",
        "# A. 5 11  *\n",
        "# B. 5 9\n",
        "# C. 7 11\n",
        "# D. 5 2\n",
        "\n",
        "\n",
        "\n",
        "# 5. What will be the output of given Python code?\n",
        "\n",
        "# str1=\"hello\"\n",
        "# c=0\n",
        "# for x in str1:\n",
        "#    if(x!=\"l\"):\n",
        "#        c=c+1\n",
        "#    else:\n",
        "#        pass\n",
        "# print(c)\n",
        "# A. 2\n",
        "# B. 0\n",
        "# C. 4\n",
        "# D. 3   *\n",
        "\n",
        "\n",
        "\n",
        "# 6. Which of the following Python code will give different output from the others?\n",
        "\n",
        "# A. for i in range(0,5):\n",
        "#     print(i)\n",
        "# B. for j in [0,1,2,3,4]:\n",
        "#     print(j)\n",
        "# C. for k in [0,1,2,3,4,5]:     *\n",
        "#     print(k)\n",
        "# D. for l in range(0,5,1):\n",
        "#     print(l)\n",
        "\n",
        "\n",
        "\n",
        "# 7. How many times will the loop run?\n",
        "\n",
        "# i=2\n",
        "\n",
        "# while(i>0):\n",
        "\n",
        "#     i=i-1\n",
        "\n",
        "# A. 2  *\n",
        "# B. 3\n",
        "# C. 1\n",
        "# D. 0\n",
        "\n",
        "\n",
        "\n",
        "# 8. What will be the output of the following Python code?\n",
        "\n",
        "# list1 = [3 , 2 , 5 , 6 , 0 , 7, 9]\n",
        "\n",
        "# sum = 0\n",
        "\n",
        "# sum1 = 0\n",
        "\n",
        "# for elem in list1:\n",
        "\n",
        "#     if (elem % 2 == 0):\n",
        "\n",
        "#         sum = sum + elem         #sum = 2+6+0 = 8\n",
        "\n",
        "#         continue\n",
        "\n",
        "#     if (elem % 3 == 0):\n",
        "\n",
        "#         sum1 = sum1 + elem       #sum1 = 3+9 = 12\n",
        "\n",
        "\n",
        "\n",
        "# print(sum , end=\" \")\n",
        "\n",
        "# print(sum1)\n",
        "\n",
        "# A. 8 9\n",
        "# B. 8 3\n",
        "# C. 2 3\n",
        "# D. 8 12  *\n",
        "\n",
        "\n",
        "\n",
        "# 9. What will be the output of the following Python code?\n",
        "\n",
        "# str1=\"learn python\"\n",
        "\n",
        "# str2=\"\"\n",
        "\n",
        "# str3=\"\"\n",
        "\n",
        "# for x in str1:\n",
        "\n",
        "#     if(x==\"r\" or x==\"n\" or x==\"p\"):\n",
        "\n",
        "#         str2+=x                               #str2 = rnpn\n",
        "\n",
        "#         pass\n",
        "\n",
        "#     if(x==\"r\" or x==\"e\" or x==\"a\"):\n",
        "\n",
        "#         str3+=x                               #str3 = ear\n",
        "\n",
        "# print(str2,end=\" \")\n",
        "\n",
        "# print(str3)\n",
        "\n",
        "# A. rnpn ea       \n",
        "# B. rnpn ear   *\n",
        "# C. rnp ea\n",
        "# D. rnp ear\n",
        "\n",
        "\n",
        "\n",
        "# 10. What will be the output of the following Python code?\n",
        "\n",
        "# for i in range(0,2,-1):\n",
        "\n",
        "#     print(\"Hello\")\n",
        "\n",
        "# A. Hello\n",
        "# B. Hello Hello\n",
        "# C. No Output  *\n",
        "# D. Error\n",
        "\n",
        "\n",
        "\n",
        "# 11. Which one of the following is a valid Python if statement :\n",
        "\n",
        "# A. if a>=2 :  *\n",
        "# B. if (a >= 2)\n",
        "# C. if (a => 22)\n",
        "# D. if a >= 22\n",
        "\n",
        "\n",
        "\n",
        "# 12. What keyword would you use to add an alternative condition to an if statement?\n",
        "\n",
        "# A. else if\n",
        "# B. elseif\n",
        "# C. elif  *\n",
        "# D. None of the above\n",
        "\n",
        "\n",
        "\n",
        "# 13. Can we write if/else into one line in python?\n",
        "\n",
        "# A. Yes  *\n",
        "# B. No  \n",
        "# C. if/else not used in python\n",
        "# D. None of the above\n",
        "\n",
        "\n",
        "\n",
        "# 14. In a Python program, a control structure:\n",
        "\n",
        "# A. Defines program-specific data structures\n",
        "# B. Directs the order of execution of the statements in the program     *\n",
        "# C. Dictates what happens before the program starts and after it terminates\n",
        "# D. None of the above\n",
        "\n",
        "\n",
        "\n",
        "# 15. What will be output of this expression:\n",
        "\n",
        "# 'p' + 'q' if '12'.isdigit() else 'r' + 's'\n",
        "# A. pq  *\n",
        "# B. rs\n",
        "# C. pqrs\n",
        "# D. pq12\n",
        "\n",
        "\n",
        "\n",
        "# 16. Which statement will check if a is equal to b?\n",
        "\n",
        "# A. if a = b:\n",
        "# B. if a == b:  *\n",
        "# C. if a === c:\n",
        "# D. if a == b\n",
        "\n",
        "\n",
        "\n",
        "# 17. Does python have switch case statement?\n",
        "\n",
        "# A. True\n",
        "# B. False  *\n",
        "# C. Python has switch statement but we can not use it.\n",
        "# D. None of the above\n",
        "\n",
        "\n",
        "\n",
        "# 18. Which of the following is a valid for loop in Python?\n",
        "\n",
        "# A. for(i=0; i < n; i++)\n",
        "# B. for i in range(0,5):  *\n",
        "# C. for i in range(0,5)\n",
        "# D. for i in range(5)\n",
        "\n",
        "\n",
        "\n",
        "# 19. Which of the following sequences would be generated by the given line of code?\n",
        "\n",
        "# range (5, 0, -2)\n",
        "# A. 5 4 3 2 1 0 -1\n",
        "# B. 5 4 3 2 1 0\n",
        "# C. 5 3 1         *\n",
        "# D. None of the above\n",
        "\n",
        "\n",
        "\n",
        "# 20. A while loop in Python is used for what type of iteration?\n",
        "\n",
        "# A. indefinite   *\n",
        "# B. discriminant\n",
        "# C. definite\n",
        "# D. indeterminate\n",
        "\n",
        "\n",
        "\n",
        "# 21. When does the else statement written after loop executes?\n",
        "\n",
        "# A. When break statement is executed in the loop\n",
        "# B. When loop condition becomes false   *\n",
        "# C. Else statement is always executed\n",
        "# D. None of the above\n",
        "\n",
        "\n",
        "\n",
        "# 22. What will be the output of the following code?\n",
        "\n",
        "# x = \"abcdef\"\n",
        "\n",
        "# i = \"i\"\n",
        "\n",
        "# while i in x:\n",
        "\n",
        "#     print(i, end=\" \")\n",
        "# A. a b c d e f\n",
        "# B. abcdef\n",
        "# C. i i i i i.....\n",
        "# D. No Output     *\n",
        "\n",
        "\n",
        "\n",
        "# 23. What will be the output of the following code?\n",
        "\n",
        "# x = \"abcd\"\n",
        "\n",
        "# for i in range(len(x)):\n",
        "\n",
        "#     print(i)\n",
        "# A. abcd\n",
        "# B. 0 1 2 3  *\n",
        "# C. 1 2 3 4\n",
        "# D. a b c d\n",
        "\n",
        "\n",
        "\n",
        "# 24. What will be the output of the following code?\n",
        "\n",
        "# x = 12\n",
        "\n",
        "# for i in x:\n",
        "\n",
        "#     print(i)\n",
        "\n",
        "# A. 12\n",
        "# B. 1 2\n",
        "# C. Error   *\n",
        "# D. None of the above\n",
        "\n",
        "\n",
        "\n",
        "# 25. A loop becomes infinite loop if a condition never becomes ________.\n",
        "\n",
        "# A. TRUE\n",
        "# B. FALSE   *\n",
        "# C. Null\n",
        "# D. Both A and C\n",
        "\n",
        "\n",
        "\n",
        "# 26. If the else statement is used with a while loop, the else statement is executed when the condition becomes _______.\n",
        "\n",
        "# A. TRUE\n",
        "# B. FALSE  *\n",
        "# C. Infinite\n",
        "# D. Null\n",
        "\n",
        "\n",
        "\n",
        "# 27. Python programming language allows to use one loop inside another loop known as?\n",
        "\n",
        "# A. switch\n",
        "# B. foreach\n",
        "# C. nested  *\n",
        "# D. forall\n",
        "\n",
        "\n",
        "\n",
        "# 28. The ________ statement is a null operation.\n",
        "\n",
        "# A. break\n",
        "# B. exit\n",
        "# C. return\n",
        "# D. pass  *\n",
        "\n",
        "\n",
        "\n",
        "# 29. The continue statement can be used in?\n",
        "\n",
        "# A. while loop\n",
        "# B. for loop\n",
        "# C. do-while\n",
        "# D. Both A and B  *"
      ]
    },
    {
      "cell_type": "code",
      "execution_count": null,
      "metadata": {
        "id": "B3DE3YDSG5it"
      },
      "outputs": [],
      "source": [
        "#Answers below Question without running the programs\n",
        "\n",
        "\n",
        "# 1. What will be the output of above Python code?\n",
        "\n",
        "# str1=\"6/4\"\n",
        "\n",
        "# print(\"str1\")\n",
        "\n",
        "# A. 1\n",
        "# B. 6/4  *\n",
        "# C. 1.5\n",
        "# D. str1\n",
        "\n",
        "\n",
        "\n",
        "# 2. Which of the following will result in an error?\n",
        "\n",
        "# str1=\"python\"\n",
        "# A. print(str1[2])\n",
        "# B. str1[1]=\"x\"\n",
        "# C. print(str1[0:9])  \n",
        "# D. Both (b) and (c) *\n",
        "\n",
        "\n",
        "\n",
        "# 3. Which of the following is False?\n",
        "\n",
        "# A. String is immutable.\n",
        "# B. capitalize() function in string is used to return a string by converting the whole given string into uppercase.  *\n",
        "# C. lower() function in string is used to return a string by converting the whole given string into lowercase.\n",
        "# D. None of these.\n",
        "\n",
        "\n",
        "# 4. What will be the output of below Python code?\n",
        "\n",
        "# str1=\"Information\"\n",
        "\n",
        "# print(str1[2:8])\n",
        "\n",
        "# A. format *\n",
        "# B. formatio\n",
        "# C. orma\n",
        "# D. ormat\n",
        "\n",
        "\n",
        "\n",
        "# 5. What will be the output of below Python code?\n",
        "\n",
        "# str1=\"Aplication\"\n",
        "\n",
        "# str2=str1.replace('a','A')\n",
        "\n",
        "# print(str2)\n",
        "\n",
        "# A. application\n",
        "# B. Application\n",
        "# C. ApplicAtion  *\n",
        "# D. applicAtion\n",
        "\n",
        "\n",
        "\n",
        "# 6. What will be the output of below Python code?\n",
        "\n",
        "# str1=\"poWer\"\n",
        "\n",
        "# str1.upper()\n",
        "\n",
        "# print(str1)\n",
        "\n",
        "# A. POWER  \n",
        "# B. Power\n",
        "# C. power\n",
        "# D. poWer *\n",
        "\n",
        "\n",
        "\n",
        "# 7. What will the below Python code will return?\n",
        "\n",
        "# If str1=\"save paper,save plants\"\n",
        "\n",
        "# str1.find(\"save\")\n",
        "# A. It returns the first index position of the first occurance of \"save\" in the given string str1. *\n",
        "# B. It returns the last index position of the last occurance of \"save\" in the given string str1.\n",
        "# C. It returns the last index position of the first occurance of \"save\" in the given string str1.\n",
        "# D. It returns the first index position of the first occurance of \"save\" in the given string str1.\n",
        "\n",
        "\n",
        "\n",
        "# 8. What will the below Python code will return?\n",
        "\n",
        "# list1=[0,2,5,1]\n",
        "\n",
        "# str1=\"7\"\n",
        "\n",
        "# for i in list1:\n",
        "\n",
        "# \tstr1=str1+i\n",
        "\n",
        "# print(str1)\n",
        "\n",
        "# A. 70251\n",
        "# B. 7\n",
        "# C. 15\n",
        "# D. Error  *\n",
        "\n",
        "\n",
        "\n",
        "# 9. Which of the following will give \"Simon\" as output?\n",
        "\n",
        "# If str1=\"John,Simon,Aryan\"\n",
        "# A. print(str1[-7:-12])\n",
        "# B. print(str1[-11:-7])\n",
        "# C. print(str1[-11:-6]) *\n",
        "# D. print(str1[-7:-11])\n",
        "\n",
        "\n",
        "\n",
        "# 10. What will following Python code return?\n",
        "\n",
        "# str1=\"Stack of books\"\n",
        "# print(len(str1))\n",
        "# A. 13\n",
        "# B. 14 *\n",
        "# C. 15\n",
        "# D. 16\n",
        "\n",
        "\n"
      ]
    },
    {
      "cell_type": "code",
      "execution_count": 99,
      "metadata": {},
      "outputs": [
        {
          "name": "stdout",
          "output_type": "stream",
          "text": [
            "14\n"
          ]
        }
      ],
      "source": []
    },
    {
      "cell_type": "code",
      "execution_count": null,
      "metadata": {
        "id": "u3nzITJMIBRN"
      },
      "outputs": [],
      "source": []
    }
  ],
  "metadata": {
    "colab": {
      "provenance": []
    },
    "kernelspec": {
      "display_name": "Python 3",
      "name": "python3"
    },
    "language_info": {
      "codemirror_mode": {
        "name": "ipython",
        "version": 3
      },
      "file_extension": ".py",
      "mimetype": "text/x-python",
      "name": "python",
      "nbconvert_exporter": "python",
      "pygments_lexer": "ipython3",
      "version": "3.11.5"
    }
  },
  "nbformat": 4,
  "nbformat_minor": 0
}
