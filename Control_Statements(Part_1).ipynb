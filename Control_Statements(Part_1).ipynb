{
  "nbformat": 4,
  "nbformat_minor": 0,
  "metadata": {
    "colab": {
      "provenance": []
    },
    "kernelspec": {
      "name": "python3",
      "display_name": "Python 3"
    },
    "language_info": {
      "name": "python"
    }
  },
  "cells": [
    {
      "cell_type": "code",
      "execution_count": null,
      "metadata": {
        "id": "AwgkCbQKdrRS"
      },
      "outputs": [],
      "source": [
        "#Conditional Statements :--\n",
        "\n",
        "if\n",
        "elif\n",
        "else\n",
        "\n",
        "\n",
        "\n",
        "\n"
      ]
    },
    {
      "cell_type": "code",
      "source": [
        "\n",
        "# if :--\n",
        "# sytanx:--\n",
        "# if(condition):\n",
        "#   statements\n",
        "\n",
        "\n",
        "i = 20\n",
        "if(i<15):\n",
        "  print(\"is is less than 15\")\n",
        "\n",
        "print(\"i is not less than 15\")\n",
        "\n",
        "\n",
        "\n",
        "\n",
        "# else :--\n",
        "\n",
        "# if (condtion):\n",
        "#   statements\n",
        "# else:\n",
        "#   statements\n",
        "\n",
        "\n",
        "# Program  to find the number is even or odd\n",
        "\n",
        "number = int(input(\"Enter a number to check whether it is even or odd\"))\n",
        "if(number%2)==0:\n",
        "  print(number  , \"is even number\")\n",
        "else:\n",
        "  print(number, \"is odd number\")\n",
        "\n",
        "\n",
        "\n",
        "\n",
        "\n"
      ],
      "metadata": {
        "colab": {
          "base_uri": "https://localhost:8080/"
        },
        "id": "iFHWmPRDeyN6",
        "outputId": "f98133c0-7574-4ab4-d3c1-e10155a9447d"
      },
      "execution_count": null,
      "outputs": [
        {
          "output_type": "stream",
          "name": "stdout",
          "text": [
            "i is not less than 15\n",
            "Enter a number to check whether it is even or odd5645645\n",
            "5645645 is odd number\n"
          ]
        }
      ]
    },
    {
      "cell_type": "code",
      "source": [
        "# To Check if the input year is leap year and check if input century is leap century\n",
        "\n",
        "year = int(input(\"Enter a leap year\"))\n",
        "if (year%4 == 0 and  year%400 ==0):\n",
        "  print(year , \" is a leap year or century\")\n",
        "else:\n",
        "  print(year , \"is not a leap year or century\")\n",
        "\n",
        "\n",
        "\n"
      ],
      "metadata": {
        "colab": {
          "base_uri": "https://localhost:8080/"
        },
        "id": "EdBV2UMtjFkS",
        "outputId": "ec4931ff-8ee0-486f-db82-e8435eb6bc29"
      },
      "execution_count": null,
      "outputs": [
        {
          "output_type": "stream",
          "name": "stdout",
          "text": [
            "Enter a leap year2600\n",
            "2600 is not a leap year\n"
          ]
        }
      ]
    },
    {
      "cell_type": "code",
      "source": [
        "# elif:--\n",
        "\n",
        "# syntax:--\n",
        "# if(condition):\n",
        "#   statements\n",
        "# elif(condition):\n",
        "#   statements\n",
        "# elif(condition):\n",
        "#   statements\n",
        "# .\n",
        "# .\n",
        "# .\n",
        "# .\n",
        "# .\n",
        "# .\n",
        "# .\n",
        "# .\n",
        "# else:\n",
        "#   statements\n",
        "\n",
        "year = int(input(\"Enter a leap year\"))\n",
        "\n",
        "if (year%4 == 0 and year%400 == 0 ):\n",
        "  print(year , \" is a leap year \")\n",
        "else:\n",
        "  print(year , \"is not a leap year or century\")\n",
        "\n",
        "\n",
        "\n",
        "\n",
        "\n",
        "\n",
        "\n",
        "\n",
        "\n",
        "\n",
        "\n",
        "\n",
        "\n",
        "\n",
        "\n",
        "\n"
      ],
      "metadata": {
        "colab": {
          "base_uri": "https://localhost:8080/"
        },
        "id": "Gg7wC8_umg_D",
        "outputId": "97752f2d-6df1-41d8-f7dd-df45fb1d0226"
      },
      "execution_count": null,
      "outputs": [
        {
          "output_type": "stream",
          "name": "stdout",
          "text": [
            "Enter a leap year2023\n",
            "Enter your leap century2000\n",
            "2023 is leap century\n"
          ]
        }
      ]
    },
    {
      "cell_type": "code",
      "source": [
        "\n",
        "i = int(input(\"Enter a number\"))\n",
        "if(i==10):\n",
        "  print(\"i is 10\")\n",
        "elif(i==15):\n",
        "  print(\"i is greater than 15\")\n",
        "elif(i<=25):\n",
        "  print(\"i is less than 25\")\n",
        "elif(i==20):\n",
        "  print(\"is is 20\")\n",
        "else:\n",
        "  print(\"Bbbbyeee\")\n",
        "\n",
        "\n",
        "\n",
        "\n",
        "\n",
        "\n",
        "\n"
      ],
      "metadata": {
        "colab": {
          "base_uri": "https://localhost:8080/"
        },
        "id": "jSvEn8yroOq5",
        "outputId": "c149bc6c-3252-4e1b-fb8d-a8701bb47058"
      },
      "execution_count": null,
      "outputs": [
        {
          "output_type": "stream",
          "name": "stdout",
          "text": [
            "Enter a number200\n",
            "Bbbbyeee\n"
          ]
        }
      ]
    },
    {
      "cell_type": "code",
      "source": [
        "# Program to check the largest number among the three numbers:--\n",
        "\n",
        "x  = int(input(\"Enter a  first number\"))\n",
        "y = int(input(\"Enter a second number\"))\n",
        "z =  int(input(\"Enter a third number\"))\n",
        "\n",
        "\n",
        "\n",
        "if(x>y and x>z):\n",
        "  l =z\n",
        "elif(y>z and y>x):\n",
        "  l = y\n",
        "else:\n",
        "  l=z\n",
        "\n",
        "print(\"Largest Number is \" , l)\n",
        "\n",
        "\n",
        "\n",
        "\n",
        "\n",
        "\n",
        "\n",
        "\n",
        "\n",
        "\n",
        "\n",
        "\n",
        "\n",
        "\n"
      ],
      "metadata": {
        "id": "matK1WeQrERZ",
        "colab": {
          "base_uri": "https://localhost:8080/"
        },
        "outputId": "31c7d5b2-d797-4e98-d0cf-4472adba96e6"
      },
      "execution_count": 1,
      "outputs": [
        {
          "output_type": "stream",
          "name": "stdout",
          "text": [
            "Enter a  first number1\n",
            "Enter a second number2\n",
            "Enter a third number3\n",
            "Largest Number is  3\n"
          ]
        }
      ]
    }
  ]
}