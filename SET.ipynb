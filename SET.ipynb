{
  "cells": [
    {
      "cell_type": "code",
      "execution_count": 6,
      "metadata": {
        "colab": {
          "base_uri": "https://localhost:8080/"
        },
        "id": "JNhrgkU92JQi",
        "outputId": "9210f929-f368-4240-88c1-79c9c633689a"
      },
      "outputs": [
        {
          "name": "stdout",
          "output_type": "stream",
          "text": [
            "Empty set {}\n",
            "{1, 2, 3, 4, 5, 6, 7}\n",
            "Unique Elements : {1, 2, 4, 5, 23, 8, 12}\n",
            "<class 'set'>\n",
            "<class 'set'>\n",
            "Set Function: {'a', 'c', 'b'}\n"
          ]
        }
      ],
      "source": [
        "# A Set is an Unordered Collection of items.\n",
        "# Every item in a set is Unique(no duplicates) and it must be immutable.\n",
        "# set uses this curly braces {} .\n",
        "# Set itself is mutable\n",
        "\n",
        "a = {}\n",
        "print(\"Empty set\",a)\n",
        "\n",
        "a = {1,2,3,4,5,6,7}\n",
        "print(a)\n",
        "\n",
        "b = {1,1,1,1,12,2,23,4,5,5,8}\n",
        "print(\"Unique Elements :\", b)\n",
        "\n",
        "print(type(a))\n",
        "print(type(b))\n",
        "\n",
        "\n"
      ]
    },
    {
      "cell_type": "code",
      "execution_count": 9,
      "metadata": {
        "colab": {
          "base_uri": "https://localhost:8080/"
        },
        "id": "aqYbS6KH3V7q",
        "outputId": "08d489e8-8956-4185-dd43-abae06099284"
      },
      "outputs": [
        {
          "name": "stdout",
          "output_type": "stream",
          "text": [
            "Set Function: {'a', 'c', 'b'}\n",
            "{1, 2, 3, 4, 5, 6, 7, 8, 9}\n",
            "{1, 2, 3, 4, 5, 6, 7, 8, 9}\n"
          ]
        }
      ],
      "source": [
        "# Creating set using set() function\n",
        "s = set('abc')\n",
        "print(\"Set Function:\", s)\n",
        "\n",
        "\n",
        "s1 = set(range(1,10))\n",
        "print(s1)\n",
        "\n",
        "s2 = set([1,2,3,4,5,6,7,8,9])\n",
        "print(s2)"
      ]
    },
    {
      "cell_type": "code",
      "execution_count": 11,
      "metadata": {
        "colab": {
          "base_uri": "https://localhost:8080/"
        },
        "id": "zOWA2SMT4nPr",
        "outputId": "cb355022-018f-4060-94bf-8ca74a38786d"
      },
      "outputs": [
        {
          "name": "stdout",
          "output_type": "stream",
          "text": [
            "{'Mon', 'Tue', 'Sat', 'Fri', 'Sun', 'Thur', 'Wed'}\n",
            "Mon\n",
            "Tue\n",
            "Sat\n",
            "Fri\n",
            "Sun\n",
            "Thur\n",
            "Wed\n"
          ]
        }
      ],
      "source": [
        "#Accessing the values in a set:\n",
        "days = set([\"Mon\" , \"Tue\" , \"Wed\" , \"Thur\" , \"Fri\",\"Sat\" , \"Sun\"])\n",
        "print(days)\n",
        "for d in days:\n",
        "  print(d)"
      ]
    },
    {
      "cell_type": "code",
      "execution_count": 18,
      "metadata": {
        "colab": {
          "base_uri": "https://localhost:8080/"
        },
        "id": "9NTjScZu5Hlx",
        "outputId": "9b831a7e-e711-4fb8-a654-85e0e3d993e9"
      },
      "outputs": [
        {
          "name": "stdout",
          "output_type": "stream",
          "text": [
            "{'a', 'd', 'f', 'e', 'b', 'c'}\n",
            "None\n",
            "{'a', 'd', 'f', 'e', 'c'}\n",
            "None\n",
            "{'d', 'f', 'e', 'c'}\n",
            "d\n",
            "{'f', 'e', 'c'}\n",
            "None\n",
            "set()\n"
          ]
        }
      ],
      "source": [
        "#Deleting the values in a Set:\n",
        "\n",
        "s3 = {\"a\",\"b\" ,\"c\", \"d\", \"e\" , \"f\"}\n",
        "print(s3)\n",
        "\n",
        "print(s3.discard(\"b\"))\n",
        "print(s3)\n",
        "\n",
        "print(s3.remove(\"a\"))\n",
        "print(s3)\n",
        "\n",
        "print(s3.pop())\n",
        "print(s3)\n",
        "\n",
        "\n",
        "print(s3.clear())\n",
        "print(s3)"
      ]
    },
    {
      "cell_type": "code",
      "execution_count": 24,
      "metadata": {
        "colab": {
          "base_uri": "https://localhost:8080/"
        },
        "id": "Xlxop6Gp6c0J",
        "outputId": "8ae921a3-982f-4e98-f9c7-19522d6db8cf"
      },
      "outputs": [
        {
          "name": "stdout",
          "output_type": "stream",
          "text": [
            "{1, 2, 3, 4, 5}\n",
            "{1, 2, 3, 4, 5, 6}\n",
            "{1, 2, 3, 'a', 'b', 'c'}\n",
            "{1, 2, 3, 'a', 4, 'b', 'c'}\n"
          ]
        }
      ],
      "source": [
        "#Updating sets:-\n",
        "#add():--\n",
        "\n",
        "s4 = {1,2,3,4,5}\n",
        "print(s4)\n",
        "s4.add(6)\n",
        "print(s4)\n",
        "\n",
        "#update() :---\n",
        "s5 = {1,2,3 ,3,3}\n",
        "s6 = {'a', 'b', 'c','a' ,'b'}\n",
        "\n",
        "s5.update(s6)\n",
        "print(s5)\n",
        "\n",
        "s5.update({3,4})\n",
        "print(s5)\n",
        "\n",
        "\n"
      ]
    },
    {
      "cell_type": "code",
      "execution_count": 30,
      "metadata": {
        "colab": {
          "base_uri": "https://localhost:8080/"
        },
        "id": "LmHVqmwO7aUK",
        "outputId": "5f3604a7-a069-4dc4-be7d-97287a125579"
      },
      "outputs": [
        {
          "name": "stdout",
          "output_type": "stream",
          "text": [
            "{1, 2, 3, 4, 5, 6, 8}\n",
            "Union of the sets {1, 2, 3, 4, 5, 6, 8}\n"
          ]
        }
      ],
      "source": [
        "#Basic Operation on a set:-\n",
        "\n",
        "#Union\n",
        "#intersection\n",
        "#Difference\n",
        "#Comparison\n",
        "#Symmetric Difference\n",
        "\n",
        "\n",
        "\n",
        "\n",
        "#Union of the sets:-\n",
        "A = {1,2,4,6,8}\n",
        "B = {1,2,3,4,5}\n",
        "C = A|B\n",
        "print(C)\n",
        "\n",
        "\n",
        "print(\"Union of the sets\", A.union(B))\n",
        "\n",
        "\n",
        "\n"
      ]
    },
    {
      "cell_type": "code",
      "execution_count": 31,
      "metadata": {
        "colab": {
          "base_uri": "https://localhost:8080/"
        },
        "id": "3auVdZ1h9fDy",
        "outputId": "7a1164a8-a942-48a2-fb82-b6bda4222eda"
      },
      "outputs": [
        {
          "name": "stdout",
          "output_type": "stream",
          "text": [
            "{'Wed'}\n",
            "Intersection of the sets {'Wed'}\n"
          ]
        }
      ],
      "source": [
        "#intersection :-\n",
        "days_A = set([\"Mon\", \"Tue\", \"Wed\"])\n",
        "days_B = set([\"Wed\", \"Thur\", \"Fri\", \"Sat\", \"Sun\"])\n",
        "ALL_DAYS = days_A & days_B\n",
        "print(ALL_DAYS)\n",
        "\n",
        "print(\"Intersection of the sets\", days_A.intersection(days_B))"
      ]
    },
    {
      "cell_type": "code",
      "execution_count": 32,
      "metadata": {
        "colab": {
          "base_uri": "https://localhost:8080/"
        },
        "id": "niwjpiSd9fGQ",
        "outputId": "83d55d51-9128-410d-da60-8604220a2359"
      },
      "outputs": [
        {
          "name": "stdout",
          "output_type": "stream",
          "text": [
            "{8, 6}\n",
            "Difference of the sets: {8, 6}\n"
          ]
        }
      ],
      "source": [
        "\n",
        "#Difference of the sets:--\n",
        "# It will return all the elements which is in set A but not in Set B\n",
        "S1 = {1,2,3,4,6,8}\n",
        "S2 = {1,2,3,4,5}\n",
        "S3 = S1 - S2\n",
        "print(S3)\n",
        "\n",
        "print(\"Difference of the sets:\", S1.difference(S2))\n"
      ]
    },
    {
      "cell_type": "code",
      "execution_count": 28,
      "metadata": {
        "colab": {
          "base_uri": "https://localhost:8080/"
        },
        "id": "NTUE5pDC9fIw",
        "outputId": "3f91a5af-8d97-4d44-8694-67488b3d5f6c"
      },
      "outputs": [
        {
          "name": "stdout",
          "output_type": "stream",
          "text": [
            "True\n",
            "True\n"
          ]
        }
      ],
      "source": [
        "#Comparison of the set:-\n",
        "DaysA = set([\"Mon\", \"Tue\",\"Wed\"])\n",
        "DaysB = set([\"Mon\", \"Tue\", \"Wed\", \"Thu\", \"Fri\",\"Sat\", \"Sun\"])\n",
        "subsetRes = DaysA <= DaysB\n",
        "SupersetRes = DaysB >= DaysA\n",
        "\n",
        "print(subsetRes)\n",
        "print(SupersetRes)\n",
        "\n"
      ]
    },
    {
      "cell_type": "code",
      "execution_count": 35,
      "metadata": {
        "colab": {
          "base_uri": "https://localhost:8080/"
        },
        "id": "no1w03H3-8Kh",
        "outputId": "68162faa-9a9e-4999-cc1d-4c2e77c823e1"
      },
      "outputs": [
        {
          "name": "stdout",
          "output_type": "stream",
          "text": [
            "{3, 5, 6, 8}\n",
            "Symmetric Difference of the sets: {3, 5, 6, 8}\n"
          ]
        }
      ],
      "source": [
        "#Symmetric Difference:-\n",
        "A = {1,2,4,6,8}\n",
        "B = {1,2,3,4,5}\n",
        "C = A^B\n",
        "\n",
        "print(C)\n",
        "\n",
        "print(\"Symmetric Difference of the sets:\", A.symmetric_difference(B))\n",
        "\n"
      ]
    },
    {
      "cell_type": "code",
      "execution_count": 37,
      "metadata": {
        "colab": {
          "base_uri": "https://localhost:8080/"
        },
        "id": "IqZtbtCM8HBS",
        "outputId": "db374d40-349c-44b8-bbb1-76f7135c81d0"
      },
      "outputs": [
        {
          "name": "stdout",
          "output_type": "stream",
          "text": [
            "True\n",
            "False\n",
            "True\n",
            "False\n"
          ]
        }
      ],
      "source": [
        "s1 = {\"red\", \"green\", \"blue\"}\n",
        "s2 = {\"blue\", \"yellow\", \"red\", \"green\", \"black\"}\n",
        "\n",
        "#subset\n",
        "\n",
        "print(s1.issubset(s2))\n",
        "\n",
        "#superset\n",
        "\n",
        "print(s1.issuperset(s2))\n",
        "\n",
        "\n",
        "print(s2.issuperset(s1))\n",
        "\n",
        "\n",
        "#disjoint set\n",
        "\n",
        "print(s1.isdisjoint(s2))\n",
        "\n"
      ]
    },
    {
      "cell_type": "code",
      "execution_count": 39,
      "metadata": {
        "colab": {
          "base_uri": "https://localhost:8080/"
        },
        "id": "6XPSgZV_BrR9",
        "outputId": "d1616d63-f2a9-42a2-fed6-aaf8de56fe6b"
      },
      "outputs": [
        {
          "name": "stdout",
          "output_type": "stream",
          "text": [
            "Maximum element of the set : 85\n",
            "Minimum element of the set : 1\n",
            "Sorted element of the set : [1, 2, 4, 6, 8, 9, 72, 85]\n",
            "Sum of the  element of the set : 187\n"
          ]
        }
      ],
      "source": [
        "S = {1,2,8,9,72,4,85,6}\n",
        "print(\"Maximum element of the set :\",max(S))\n",
        "print(\"Minimum element of the set :\",min(S))\n",
        "print(\"Sorted element of the set :\",sorted(S))\n",
        "print(\"Sum of the  element of the set :\",sum(S))\n",
        "\n",
        "\n"
      ]
    },
    {
      "cell_type": "code",
      "execution_count": null,
      "metadata": {
        "id": "mOhmR4-bCcHJ"
      },
      "outputs": [],
      "source": [
        "#Assigments Questions"
      ]
    },
    {
      "cell_type": "code",
      "execution_count": null,
      "metadata": {
        "id": "9jsJcojhGHXf"
      },
      "outputs": [],
      "source": [
        "#Question-1 MCQs(Sets)\n",
        "\n",
        "# 1. Which of the following is correct with respect to above Python code?\n",
        "\n",
        "# d={\"a\":3,\"b\":7}\n",
        "# A. a dictionary d is created.\n",
        "# B. a and b are the keys of dictionary d.\n",
        "# C. 3 and 7 are the values of dictionary d\n",
        "# D. All of the above.   *\n",
        "\n",
        "\n",
        "\n",
        "# 2. Which one of the following is correct?\n",
        "\n",
        "# A. In python, a dictionary can have two same keys with different values.\n",
        "# B. In python, a dictionary can have two same values with different keys  *\n",
        "# C. In python, a dictionary can have two same keys or same values but cannot have two same key-value pair  \n",
        "# D. In python, a dictionary can neither have two same keys nor two same values.\n",
        "\n",
        "\n",
        "\n",
        "# 3. What will be the output of above Python code?\n",
        "\n",
        "# d1={\"abc\":5,\"def\":6,\"ghi\":7}\n",
        "\n",
        "# print(d1[0])\n",
        "\n",
        "# A. abc\n",
        "# B. 5\n",
        "# C. {\"abc\":5}\n",
        "# D. Error  *\n",
        "\n",
        "\n",
        "\n",
        "\n",
        "# 4. What will the above Python code do?\n",
        "\n",
        "# dict={\"Phy\":94,\"Che\":70,\"Bio\":82,\"Eng\":95}\n",
        "\n",
        "#    dict.update({\"Che\":72,\"Bio\":80})\n",
        "# A. It will create new dictionary as dict={\"Che\":72,\"Bio\":80} and old dict will be deleted.\n",
        "# B. It will throw an error as dictionary cannot be updated.\n",
        "# C. It will simply update the dictionary as dict={\"Phy\":94,\"Che\":72,\"Bio\":80,\"Eng\":95}  *\n",
        "# D. It will not throw any error but it will not do any changes in dict\n",
        "\n",
        "\n",
        "\n",
        "\n",
        "# 5. What will be the result of above Python code?\n",
        "\n",
        "# dict={\"Joey\":1,\"Rachel\":2}\n",
        "\n",
        "#    dict.update({\"Phoebe\":2})\n",
        "\n",
        "#    print(dict)\n",
        "\n",
        "# A. {\"Joey\":1,\"Rachel\":2,\"Phoebe\":2}  *\n",
        "# B. {\"Joey\":1,\"Rachel\":2}\n",
        "# C. {\"Joey\":1,\"Phoebe\":2}\n",
        "# D. Error\n",
        "\n",
        "\n",
        "\n",
        "# 6. Which of the following is False regarding dictionary in Python?\n",
        "\n",
        "# dict={\"Joey\":1,\"Rachel\":2}\n",
        "\n",
        "#    dict.update({\"Phoebe\":2})\n",
        "\n",
        "#    print(dict)\n",
        "\n",
        "# A. Values of a dictionary can be string,integers or combination of both.\n",
        "# B. Keys of a dictionary can be string,integers or combination of both\n",
        "# C. The value of a dictionary can be accessed with the help of indices.  *\n",
        "# D. None of the above\n",
        "\n",
        "\n",
        "\n",
        "# 7. Which of the following will delete key_value pair for key=\"tiger\" in dictionary?\n",
        "\n",
        "# dic={\"lion\":\"wild\",\"tiger\":\"wild\",\"cat\":\"domestic\",\"dog\":\"domestic\"}\n",
        "# A. del dic[\"tiger\"]   *\n",
        "# B. dic[\"tiger\"].delete()\n",
        "# C. delete(dic.[\"tiger\"])\n",
        "# D. del(dic.[\"tiger\"])\n",
        "\n",
        "\n",
        "\n",
        "# 8. Which of the following will give error?\n",
        "\n",
        "# Suppose dict1={\"a\":1,\"b\":2,\"c\":3}\n",
        "# A. print(len(dict1))\n",
        "# B. print(dict1.get(\"b\"))\n",
        "# C. dict1[\"a\"]=5\n",
        "# D. None of these.  *\n",
        "\n",
        "\n",
        "\n",
        "\n",
        "# 9. Which of the following Python codes will give same output if\n",
        "# (i) dict.pop(\"book\")  \n",
        "# (ii) del dict[\"book\"] \n",
        "# (iii) dict.update({\"diary\":1,\"novel\":5})\n",
        "\n",
        "\n",
        "# dict={\"diary\":1,\"book\":3,\"novel\":5}\n",
        "# A. i, ii, iii\n",
        "# B. i, ii   *\n",
        "# C. i, iii\n",
        "# D. ii, iii\n",
        "\n",
        "\n",
        "\n",
        "# 10. What will be the following Python code?\n",
        "\n",
        "# dict1={\"a\":10,\"b\":2,\"c\":3}\n",
        "# str1=\"\"\n",
        "# for i in dict1:\n",
        "#     str1=str1+str(dict1[i])+\" \"   \n",
        "#     str2=str1[:-1]                \n",
        "# print(str2[::-1])                 \n",
        "# A. 3, 2\n",
        "# B. 3, 2, 10\n",
        "# C. 3, 2, 01\n",
        "# D. Error  *"
      ]
    },
    {
      "cell_type": "code",
      "execution_count": 40,
      "metadata": {
        "id": "F7zA1aeIGHao"
      },
      "outputs": [],
      "source": [
        "#Question-2 MCQs(Sets)\n",
        "\n",
        "# 1. Which of the following Python code will create a set?\n",
        "# (i) set1=set((0,9,0))\n",
        "# (ii) set1=set([0,2,9])\n",
        "# (iii) set1={}\n",
        "\n",
        "# A. iii\n",
        "# B. i and ii\n",
        "# C. ii, iii\n",
        "# D. All of the above  *\n",
        "\n",
        "\n",
        "\n",
        "# 2. What will be the output of following Python code?\n",
        "\n",
        "# set1={0,0,9}\n",
        "\n",
        "# print(set1)\n",
        "# A. {0,0,9}\n",
        "# B. {0,9} *\n",
        "# C. {9}\n",
        "# D. It will throw an error as there are two 0 while creating the set.\n",
        "\n",
        "\n",
        "\n",
        "# 3. What will be the output of following Python code?\n",
        "\n",
        "# set1={2,5,3}\n",
        "\n",
        "# set2={3,1}\n",
        "\n",
        "# set3={}\n",
        "\n",
        "# set3=set1&set2\n",
        "\n",
        "# print(set3)\n",
        "\n",
        "# A. {3} *\n",
        "# B. {}\n",
        "# C. {2,5,3,1}\n",
        "# D. {2,5,1}\n",
        "\n",
        "\n",
        "\n",
        "# 4. What will be the output of following Python code?\n",
        "\n",
        "# list1=[1,3,4,2]\n",
        "\n",
        "# x=list1.pop(2)\n",
        "\n",
        "# print(set([x]))\n",
        "\n",
        "# A. {1,3,4}\n",
        "# B. {1,3,2}  *\n",
        "# C. {2}\n",
        "# D. {4}\n",
        "\n",
        "\n",
        "\n",
        "# 5. What will set1|set2 do?\n",
        "\n",
        "# If set1={\"a\",\"b\",3}\n",
        "# set2={3,7}\n",
        "# A. Elements of set2 will get appended to set1\n",
        "# B. Elements of set1 will get appended to set2\n",
        "# C. A new set will be created with the elements of both set1 and set2\n",
        "# D. A new set will be created with the unique elements of set1 and set2.  *\n",
        "\n",
        "\n",
        "\n",
        "# 6. What will the below Python code do?\n",
        "\n",
        "# set1={\"a\",3,\"b\",3}\n",
        "\n",
        "# set1.remove(3)\n",
        "\n",
        "# A. It removes element with index position 3 from set1\n",
        "# B. It removes element 3 from set1   *\n",
        "# C. It removes only the first occurance of 3 from set1\n",
        "# D. No such function exists for set\n",
        "\n",
        "\n",
        "\n",
        "# 7. What will the below Python code do?\n",
        "\n",
        "# set1={2,3}\n",
        "\n",
        "# set2={3,2}\n",
        "\n",
        "# set3={2,1}\n",
        "\n",
        "# if(set1==set2):\n",
        "\n",
        "#     print(\"yes\")\n",
        "\n",
        "# else:\n",
        "\n",
        "#     print(\"no\")\n",
        "\n",
        "# if(set1==set3):\n",
        "\n",
        "#     print(\"yes\")\n",
        "\n",
        "# else:\n",
        "\n",
        "#     print(\"no\")\n",
        "\n",
        "\n",
        "# A. Yes, No  *\n",
        "# B. No, No\n",
        "# C. Yes, Yes\n",
        "# D. \"==\" is not supported for set in Python\n",
        "\n",
        "\n",
        "\n",
        "# 8. Suppose there are two sets, set1 and set2,where set1 is the superset of set2. It is required to get only the unique elements of both the sets. Which of the following will serve the purpose?\n",
        "\n",
        "# set1={2,3}\n",
        "\n",
        "# set2={3,2}\n",
        "\n",
        "# set3={2,1}\n",
        "\n",
        "# if(set1==set2):\n",
        "\n",
        "#     print(\"yes\")\n",
        "\n",
        "# else:\n",
        "\n",
        "#     print(\"no\")\n",
        "\n",
        "# if(set1==set3):\n",
        "\n",
        "#     print(\"yes\")\n",
        "\n",
        "# else:\n",
        "\n",
        "#     print(\"no\")\n",
        "# A. set1|set2  *\n",
        "# B. set1&set2\n",
        "# C. set1-set2\n",
        "# D. None of the above\n",
        "\n",
        "\n",
        "\n",
        "# 9. What will the be the result of below Python code?\n",
        "\n",
        "# set1={1,2,3}\n",
        "\n",
        "# set1.add(4)\n",
        "\n",
        "# set1.add(4)\n",
        "\n",
        "# print(set1)\n",
        "\n",
        "# A. {1,2,3,4} *\n",
        "# B. {1,2,3}\n",
        "# C. {1,2,3,4,4}\n",
        "# D. It will throw an error as same element is added twice\n",
        "\n",
        "\n",
        "# 10. Which of the following options will give an error if set1={2,3,4,5}?\n",
        "\n",
        "# A. print(set1[0])\n",
        "# B. set1[0]=9  *\n",
        "# C. set1=set1+{7}\n",
        "# D. All of the above\n",
        "\n",
        "\n",
        "\n"
      ]
    },
    {
      "cell_type": "code",
      "execution_count": 3,
      "metadata": {
        "id": "vpgCBJ_fGHdG"
      },
      "outputs": [
        {
          "name": "stdout",
          "output_type": "stream",
          "text": [
            "{1, 2, 3, 4, 5, 6, 7, 8, 9, 10}\n",
            "1\n",
            "2\n",
            "3\n",
            "4\n",
            "5\n",
            "6\n",
            "7\n",
            "8\n",
            "9\n",
            "10\n"
          ]
        }
      ],
      "source": [
        "#Question-3\n",
        "# Program to do the iteration over the sets\n",
        "\n",
        "s = set(range(1,11))\n",
        "print(s)\n",
        "\n",
        "for i in s:\n",
        "    print(i)"
      ]
    },
    {
      "cell_type": "code",
      "execution_count": 7,
      "metadata": {
        "id": "xSdic-RFGHfv"
      },
      "outputs": [
        {
          "name": "stdout",
          "output_type": "stream",
          "text": [
            "a = {1, 2, 3, 4, 5, 6}\n",
            "b = {1, 3, 5, 7, 9}\n",
            "Union = {1, 2, 3, 4, 5, 6, 7, 9}\n",
            "Intersection = {1, 3, 5}\n",
            "Difference = {2, 4, 6}\n",
            "Symmetric Difference = {2, 4, 6, 7, 9}\n"
          ]
        }
      ],
      "source": [
        "#Question-4\n",
        "# Write a Program to perfrom the different sets operation like in Mathematics\n",
        "\n",
        "a = {1,2,3,4,5,6}\n",
        "b = {1,3,5,7,9}\n",
        "\n",
        "print(f\"a = {a}\")\n",
        "print(f\"b = {b}\")\n",
        "print(f\"Union = {a.union(b)}\")\n",
        "print(f\"Intersection = {a.intersection(b)}\")\n",
        "print(f\"Difference = {a.difference(b)}\")\n",
        "print(f\"Symmetric Difference = {a.symmetric_difference(b)}\")\n"
      ]
    },
    {
      "cell_type": "code",
      "execution_count": 8,
      "metadata": {
        "id": "MYoqXMYhGHjn"
      },
      "outputs": [
        {
          "name": "stdout",
          "output_type": "stream",
          "text": [
            "Length of set = 6\n"
          ]
        }
      ],
      "source": [
        "#Question-5\n",
        "# Program to find the length of the sets without using the len() function\n",
        "\n",
        "s = {10,20,30,40,50,60}\n",
        "count = 0\n",
        "\n",
        "for i in s:\n",
        "    count = count + 1\n",
        "\n",
        "print(f\"Length of set = {count}\")\n"
      ]
    },
    {
      "cell_type": "code",
      "execution_count": 24,
      "metadata": {
        "id": "1VEhXTgSGHmY"
      },
      "outputs": [
        {
          "name": "stdout",
          "output_type": "stream",
          "text": [
            "{'ele1': 20, 'ele2': 10, 'ele3': 40, 'ele5': 30}\n",
            "Ascending sort:\n",
            "{'ele2': 10, 'ele1': 20, 'ele5': 30, 'ele3': 40}\n",
            "Descending sort:\n",
            "{'ele3': 40, 'ele5': 30, 'ele1': 20, 'ele2': 10}\n"
          ]
        }
      ],
      "source": [
        "#Question-6\n",
        "\n",
        "# Program to sort(Ascending and Descending Order) a dictionary by value\n",
        "\n",
        "d = {'ele1':20,\n",
        "     'ele2':10,\n",
        "     'ele3':40,\n",
        "     'ele5':30\n",
        "     }\n",
        "\n",
        "print(d)\n",
        "\n",
        "print(\"Ascending sort:\")\n",
        "print(dict(sorted(d.items(),key=lambda x:x[1])))\n",
        "\n",
        "print(\"Descending sort:\")\n",
        "print(dict(sorted(d.items(),key=lambda x:x[1],reverse=True)))"
      ]
    },
    {
      "cell_type": "code",
      "execution_count": 33,
      "metadata": {
        "id": "Z_uLt4cuGHo4"
      },
      "outputs": [
        {
          "name": "stdout",
          "output_type": "stream",
          "text": [
            "Concatenated Dict : {'ele1': 10, 'ele2': 20, 'ele3': 30, 'ele4': 40}\n"
          ]
        }
      ],
      "source": [
        "#Question-7\n",
        "# Program to Concatenate following dictionaries to create a new one\n",
        "\n",
        "a = {'ele1': 10,\n",
        "     'ele2':20\n",
        "     }\n",
        "\n",
        "b = {'ele3':30,\n",
        "     'ele4':40\n",
        "     }\n",
        "\n",
        "c = a.copy()\n",
        "c.update(b)\n",
        "\n",
        "print(f\"Concatenated Dict : {c}\")"
      ]
    },
    {
      "cell_type": "code",
      "execution_count": 44,
      "metadata": {
        "id": "-tXqmn9cGHrX"
      },
      "outputs": [
        {
          "name": "stdout",
          "output_type": "stream",
          "text": [
            "{'ele1': 20, 'ele2': 10, 'ele3': 40, 'ele5': 30}\n",
            "Found\n"
          ]
        }
      ],
      "source": [
        "#Question-8\n",
        "# Program to check if  a given key is already exists in a dictionary:\n",
        "\n",
        "d = {'ele1':20,\n",
        "     'ele2':10,\n",
        "     'ele3':40,\n",
        "     'ele5':30\n",
        "     }\n",
        "\n",
        "print(d)\n",
        "\n",
        "check = 'ele2'\n",
        "\n",
        "if(check in d.keys()):\n",
        "    print(\"Found\")\n",
        "else:\n",
        "    print(\"NOt Found\")\n"
      ]
    },
    {
      "cell_type": "code",
      "execution_count": 50,
      "metadata": {
        "id": "vpCJlYLNGHt2"
      },
      "outputs": [
        {
          "data": {
            "text/plain": [
              "{1: 1,\n",
              " 2: 4,\n",
              " 3: 9,\n",
              " 4: 16,\n",
              " 5: 25,\n",
              " 6: 36,\n",
              " 7: 49,\n",
              " 8: 64,\n",
              " 9: 81,\n",
              " 10: 100,\n",
              " 11: 121,\n",
              " 12: 144,\n",
              " 13: 169,\n",
              " 14: 196,\n",
              " 15: 225}"
            ]
          },
          "execution_count": 50,
          "metadata": {},
          "output_type": "execute_result"
        }
      ],
      "source": [
        "#Advanced Question:-\n",
        "#Question-9\n",
        "# Write a Program to print a dictionary where the keys are numbers between 1 and 15(Both Included ) and the values are square of keys\n",
        "\n",
        "sq = lambda x:x**2\n",
        "\n",
        "d = dict((i,sq(i)) for i in range(1,16))\n",
        "d"
      ]
    },
    {
      "cell_type": "code",
      "execution_count": 80,
      "metadata": {
        "id": "jOoPzXA3IVuF"
      },
      "outputs": [
        {
          "name": "stdout",
          "output_type": "stream",
          "text": [
            "{'Class-V': {1}, 'Class-VI': {2}, 'Class-VII': {3}}\n"
          ]
        }
      ],
      "source": [
        "#Advanced Question:-\n",
        "#Question-10:\n",
        "# Write a program to create a dictionary from two list without losing duplicates values:\n",
        "# sample list : [\"Class-V\", \"Class-VI\", \"Class-VII\", \"Class-VIII\"], [1,2,3]\n",
        "# Expected Output:\n",
        "# defaultdict(<class 'set'>, {\"Class-VII\":{2} \"Class-VI\", \"Class-VII\" :{2}, \"Class-V\":{1}, \"Class-VIII\":{3}})\n",
        "\n",
        "\n",
        "l1 = [\"Class-V\", \"Class-VI\", \"Class-VII\", \"Class-VIII\"]\n",
        "l2 = [1,2,3]\n",
        "d = {}\n",
        "\n",
        "for key,value in zip(l1,l2):\n",
        "    if key in d:\n",
        "        d[key].add(value)\n",
        "    else:\n",
        "        d[key] = {value}\n",
        "\n",
        "\n",
        "\n",
        "print(d)\n"
      ]
    },
    {
      "cell_type": "code",
      "execution_count": null,
      "metadata": {},
      "outputs": [],
      "source": []
    }
  ],
  "metadata": {
    "colab": {
      "provenance": []
    },
    "kernelspec": {
      "display_name": "Python 3",
      "name": "python3"
    },
    "language_info": {
      "codemirror_mode": {
        "name": "ipython",
        "version": 3
      },
      "file_extension": ".py",
      "mimetype": "text/x-python",
      "name": "python",
      "nbconvert_exporter": "python",
      "pygments_lexer": "ipython3",
      "version": "3.11.5"
    }
  },
  "nbformat": 4,
  "nbformat_minor": 0
}
