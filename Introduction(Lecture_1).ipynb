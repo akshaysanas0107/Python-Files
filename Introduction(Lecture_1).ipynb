{
  "nbformat": 4,
  "nbformat_minor": 0,
  "metadata": {
    "colab": {
      "provenance": []
    },
    "kernelspec": {
      "name": "python3",
      "display_name": "Python 3"
    },
    "language_info": {
      "name": "python"
    }
  },
  "cells": [
    {
      "cell_type": "code",
      "source": [
        "print(\"Hello Python\")\n"
      ],
      "metadata": {
        "colab": {
          "base_uri": "https://localhost:8080/"
        },
        "id": "B3lzSHSMlFuj",
        "outputId": "7b7c7c47-e2b5-440d-dfeb-6d4f7fa23938"
      },
      "execution_count": 3,
      "outputs": [
        {
          "output_type": "stream",
          "name": "stdout",
          "text": [
            "Hello Python\n"
          ]
        }
      ]
    },
    {
      "cell_type": "code",
      "source": [
        "#  C\n",
        "\n",
        "#include <stdio.h>\n",
        "int main(){\n",
        "\n",
        "           printf(\"Hello C\");\n",
        "\n",
        "}\n",
        "\n",
        "\n",
        "\n"
      ],
      "metadata": {
        "id": "AtlhanoSlEuc"
      },
      "execution_count": null,
      "outputs": []
    },
    {
      "cell_type": "code",
      "source": [
        "# C++\n",
        "\n",
        "#include \"iostream\"\n",
        "using Namespace std:\n",
        "int main(){\n",
        "\n",
        "           cout << \"Hello C++\";\n",
        "}\n",
        "\n",
        "\n"
      ],
      "metadata": {
        "id": "qKnf0IXvlEBw"
      },
      "execution_count": null,
      "outputs": []
    },
    {
      "cell_type": "code",
      "source": [
        "import java.util.*;\n",
        "\n",
        "public class Intro(){\n",
        "\n",
        "    public static void main(){\n",
        "\n",
        "             system.out.println(\"Hello JAVA\");\n",
        "          }\n",
        "}\n",
        "\n"
      ],
      "metadata": {
        "id": "ms90BicKnPqi"
      },
      "execution_count": null,
      "outputs": []
    },
    {
      "cell_type": "code",
      "source": [],
      "metadata": {
        "id": "RjhLLVcloIDa"
      },
      "execution_count": null,
      "outputs": []
    }
  ]
}