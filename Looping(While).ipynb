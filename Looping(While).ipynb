{
  "cells": [
    {
      "cell_type": "code",
      "execution_count": null,
      "metadata": {
        "id": "rssj7PpZm1Xm"
      },
      "outputs": [],
      "source": [
        "#Looping / Iteration :--\n",
        "while  loop:-\n",
        "for loop:--\n",
        "\n"
      ]
    },
    {
      "cell_type": "code",
      "execution_count": null,
      "metadata": {
        "colab": {
          "base_uri": "https://localhost:8080/"
        },
        "id": "3_Cl-axeotCT",
        "outputId": "cddd3468-10ac-4a7c-d82f-c4baafcbfb89"
      },
      "outputs": [],
      "source": [
        "# Syntax of while  loop:-\n",
        "\n",
        "# while condition:\n",
        "#   statements\n",
        "\n",
        "\n",
        "# initialize var = 0\n",
        "\n",
        "# while condition:\n",
        "#   statements\n",
        "#   increment / decrement\n",
        "\n",
        "\n",
        "\n",
        "count = 0\n",
        "while count <=10:\n",
        "  print(\"Count=\" , count)\n",
        "  count = count+1 # count+=1\n",
        "\n",
        "print(\"Bbye Counter\")\n",
        "\n",
        "\n",
        "\n",
        "\n",
        "\n",
        "\n"
      ]
    },
    {
      "cell_type": "code",
      "execution_count": null,
      "metadata": {
        "colab": {
          "base_uri": "https://localhost:8080/"
        },
        "id": "I0F0ksO5r34Y",
        "outputId": "aabf526d-c5a7-4a7c-d7c3-b9aa29272261"
      },
      "outputs": [],
      "source": [
        "#Print a series of number from one to 100 if you ur nos is 20 then print nos is 20 and if your nos is 50 print nos is 50\n",
        "\n",
        "nos = 0\n",
        "while nos<=100:\n",
        "  if(nos==20 or nos==50):\n",
        "    print(\"nos is 20 and nos is 50\")\n",
        "  elif(nos==50):\n",
        "    print(\"Nos is 50\")\n",
        "  nos +=1\n",
        "\n",
        "\n"
      ]
    },
    {
      "cell_type": "code",
      "execution_count": null,
      "metadata": {
        "colab": {
          "base_uri": "https://localhost:8080/"
        },
        "id": "riKHgZQ9t0Kw",
        "outputId": "0a7b586e-bf1a-4305-9d04-65a15eed137c"
      },
      "outputs": [],
      "source": [
        "#Fibonacci Sequence\n",
        "# 0 1 1 2 3 5 8 13 21\n",
        "nos = int(input(\"Enter how many number you want to display\"))\n",
        "\n",
        "x = 0\n",
        "y = 1\n",
        "\n",
        "c = 2\n",
        "print(\"Fibonacci Sequence is \")\n",
        "print(x)\n",
        "print(y)\n",
        "\n",
        "while(c<nos):\n",
        "  z = x+y\n",
        "  print(z)\n",
        "  x = y\n",
        "  y = z\n",
        "  c+=1\n",
        "\n",
        "\n",
        "\n",
        "\n"
      ]
    },
    {
      "cell_type": "code",
      "execution_count": null,
      "metadata": {
        "colab": {
          "base_uri": "https://localhost:8080/"
        },
        "id": "ZH45m2oXyyUs",
        "outputId": "69c26c06-22f4-44e3-cc67-cc9505b72eb7"
      },
      "outputs": [],
      "source": [
        "#Program to find the sum of given number:--\n",
        "\n",
        "n = int(input(\"Enter a number\"))\n",
        "print(\"n=\",n)\n",
        "\n",
        "s = 0\n",
        "while(n>0):\n",
        "  rem = n%10\n",
        "  s = s+rem\n",
        "  print(rem)\n",
        "  n =  int(n/10)\n",
        "  print(\"n=\",n)\n",
        "print(\"Sum of numbers\" , s)\n",
        "\n",
        "\n",
        "\n"
      ]
    },
    {
      "cell_type": "code",
      "execution_count": null,
      "metadata": {
        "colab": {
          "base_uri": "https://localhost:8080/"
        },
        "id": "Jj5DfuVB3xqn",
        "outputId": "9077580a-be8a-4658-eb8c-7123a2420e20"
      },
      "outputs": [],
      "source": [
        "#Program to find out the reverse of  a given nos\n",
        "\n",
        "\n",
        "n = int(input(\"Enter a number\"))\n",
        "\n",
        "rev = 0\n",
        "while(n>0):\n",
        "  rem = n%10\n",
        "  rev = rev*10+rem\n",
        "  n =  int(n/10)\n",
        "\n",
        "print(\"Sum of numbers\" , rev)\n",
        "\n"
      ]
    },
    {
      "cell_type": "code",
      "execution_count": null,
      "metadata": {
        "colab": {
          "base_uri": "https://localhost:8080/"
        },
        "id": "AcuHnhGm5mNq",
        "outputId": "8b4fb12e-dd59-4d3a-88fc-28623a5eb8d9"
      },
      "outputs": [],
      "source": [
        "# Nested Loops :--\n",
        "# 1\n",
        "# 1 2\n",
        "# 1 2 3\n",
        "# 1 2 3 4\n",
        "\n",
        "\n",
        "i = 1\n",
        "while i<5:\n",
        "  j= 1\n",
        "  while j<(i+1):\n",
        "    print(j , end = ' ' )\n",
        "    j = j+1\n",
        "  i = i+1\n",
        "  print()\n",
        "\n",
        "\n",
        "\n",
        "\n",
        "\n",
        "\n"
      ]
    },
    {
      "cell_type": "code",
      "execution_count": null,
      "metadata": {
        "id": "l3dnAQ_l8_TM"
      },
      "outputs": [],
      "source": [
        "#Assignments nos -2 :--\n",
        "\n"
      ]
    },
    {
      "cell_type": "code",
      "execution_count": 3,
      "metadata": {
        "id": "D9n6Pn3p90Q4"
      },
      "outputs": [
        {
          "name": "stdout",
          "output_type": "stream",
          "text": [
            "Fibonacci Sequence = [0, 1, 1, 2, 3, 5, 8, 13]\n"
          ]
        }
      ],
      "source": [
        "# Program which prints the fibonacci series of a number and write the conditions that nos should not be negative\n",
        "\n",
        "length = int(input(\"Enter Lenghth of Sequence:\"))\n",
        "seq = []\n",
        "\n",
        "while True:\n",
        "    if(length > 0):\n",
        "        n = 3\n",
        "        x = 0\n",
        "        y = 1\n",
        "\n",
        "        seq.append(x)\n",
        "        seq.append(y)\n",
        "\n",
        "        while(n<=length):\n",
        "            z = x + y\n",
        "            seq.append(z)\n",
        "            x = y\n",
        "            y = z\n",
        "            n+=1   \n",
        "        print(f\"Fibonacci Sequence = {seq}\")\n",
        "        break    \n",
        "    else:\n",
        "        length = int(input(\"Enter Positive Length:\"))\n",
        "\n",
        "        "
      ]
    },
    {
      "cell_type": "code",
      "execution_count": 6,
      "metadata": {
        "id": "MPUf65Jp_W_v"
      },
      "outputs": [
        {
          "name": "stdout",
          "output_type": "stream",
          "text": [
            "Distance Between 2 points (5,2) & (5,6) = 4.0 \n"
          ]
        }
      ],
      "source": [
        "# Program that finds the distance between 2 points (x1  , y1) and (x2 , y2) using equation formula\n",
        "\n",
        "import math\n",
        "\n",
        "x1 = 5\n",
        "y1 = 2\n",
        "x2 = 5\n",
        "y2 = 6\n",
        "\n",
        "dist = math.sqrt((x2-x1)**2 + (y2-y1)**2)\n",
        "\n",
        "print(\"Distance Between 2 points ({},{}) & ({},{}) = {} \".format(x1,y1,x2,y2,dist))"
      ]
    },
    {
      "cell_type": "code",
      "execution_count": 25,
      "metadata": {
        "id": "bUzz7ST4-mjo"
      },
      "outputs": [
        {
          "name": "stdout",
          "output_type": "stream",
          "text": [
            "Avg Marks for First Test : 30.0\n",
            "Avg Marks for Second Test : 40.0\n",
            "Avg Marks for Third Test : 69.6\n",
            "First Highest = 69.6\n",
            "Second Highest = 40.0\n"
          ]
        }
      ],
      "source": [
        "# Program to find the best of two test avearage marks out of three and test's marks is accepted from the user\n",
        "\n",
        "import math\n",
        "\n",
        "\n",
        "\n",
        "t1 = input(\"Enter Marks for First Test(Space Seperated):\").split()\n",
        "l1 = [float(x) for x in t1]\n",
        "m1 = sum(l1)/len(l1)\n",
        "\n",
        "t2 = input(\"Enter Marks for Second Test(Space Seperated):\").split()\n",
        "l1 = [float(x) for x in t2]\n",
        "m2 = sum(l1)/len(l1)\n",
        "\n",
        "t3 = input(\"Enter Marks for Third Test(Space Seperated):\").split()\n",
        "l1 = [float(x) for x in t3]\n",
        "m3 = sum(l1)/len(l1)\n",
        "\n",
        "\n",
        "print(f\"Avg Marks for First Test : {m1}\")\n",
        "print(f\"Avg Marks for Second Test : {m2}\")\n",
        "print(f\"Avg Marks for Third Test : {m3}\")\n",
        "\n",
        "\n",
        "if(m1 > m2 and m1 > m3):\n",
        "    print(f\"First Highest = {m1}\")\n",
        "    if(m2 > m3):\n",
        "        print(f\"Second Highest = {m2}\")\n",
        "    else:\n",
        "        print(f\"Second Highest = {m3}\")\n",
        "elif(m2 > m1 and m2 > m3):\n",
        "    print(f\"First Highest = {m2}\")\n",
        "    if(m1 > m3):\n",
        "        print(f\"Second Highest = {m1}\")\n",
        "    else:\n",
        "        print(f\"Second Highest = {m3}\")\n",
        "else:\n",
        "    print(f\"First Highest = {m3}\")\n",
        "    if(m1 > m2):\n",
        "        print(f\"Second Highest = {m1}\")\n",
        "    else:\n",
        "        print(f\"Second Highest = {m2}\")\n",
        "\n",
        "\n",
        "\n"
      ]
    },
    {
      "cell_type": "code",
      "execution_count": 21,
      "metadata": {},
      "outputs": [
        {
          "data": {
            "text/plain": [
              "3.0"
            ]
          },
          "execution_count": 21,
          "metadata": {},
          "output_type": "execute_result"
        }
      ],
      "source": [
        "import math\n",
        "nums = input(\"Enter Marks for First Test(Space Seperated):\")\n",
        "            \n",
        "l1 = nums.split()\n",
        "\n",
        "l1 = [float(x) for x in l1]\n",
        "avg = sum(l1)/len(l1)\n",
        "avg"
      ]
    },
    {
      "cell_type": "code",
      "execution_count": 8,
      "metadata": {
        "id": "ZabdfAjd_CNC"
      },
      "outputs": [
        {
          "name": "stdout",
          "output_type": "stream",
          "text": [
            "Area of Triangle = 25.0\n",
            "Perimeter of Triangle = 19\n"
          ]
        }
      ],
      "source": [
        "# Program to find the area of triangle and perimeter of triangle\n",
        "\n",
        "\n",
        "h = 5\n",
        "\n",
        "a = 4\n",
        "b = 10\n",
        "c = 5\n",
        "\n",
        "area = (b*h)/2\n",
        "\n",
        "perimeter = a + b + c\n",
        "\n",
        "print(f\"Area of Triangle = {area}\")\n",
        "print(f\"Perimeter of Triangle = {perimeter}\")"
      ]
    },
    {
      "cell_type": "code",
      "execution_count": 10,
      "metadata": {
        "id": "29abKn1g_Nev"
      },
      "outputs": [
        {
          "name": "stdout",
          "output_type": "stream",
          "text": [
            "a = 10 , b = 20\n",
            "a = 20 , b = 10\n"
          ]
        }
      ],
      "source": [
        "# Program to swap the two variables without using the third variable\n",
        "\n",
        "a = 10\n",
        "b = 20\n",
        "\n",
        "print(f\"a = {a} , b = {b}\")\n",
        "\n",
        "a,b = b,a\n",
        "\n",
        "print(f\"a = {a} , b = {b}\")\n"
      ]
    },
    {
      "cell_type": "code",
      "execution_count": 16,
      "metadata": {
        "id": "DvBkqVwM_8tq"
      },
      "outputs": [
        {
          "name": "stdout",
          "output_type": "stream",
          "text": [
            "Result = 30.0\n"
          ]
        }
      ],
      "source": [
        "# Write a python program to add two nos which is integer datatype and its result should be displayed as floating datatype\n",
        "\n",
        "a = 10\n",
        "b = 20\n",
        "\n",
        "\n",
        "res = a + b\n",
        "print(f\"Result = {float(res)}\")\n",
        "\n"
      ]
    },
    {
      "cell_type": "code",
      "execution_count": 31,
      "metadata": {
        "id": "cVI6PsMqAP_n"
      },
      "outputs": [
        {
          "name": "stdout",
          "output_type": "stream",
          "text": [
            "Marks = 81.8\n",
            "First Class with Distinction\n"
          ]
        }
      ],
      "source": [
        "\n",
        "# Program to generate student Result . Accept marks of five subject and display the result according to following conditions:-\n",
        "\n",
        "# Percentage     Division\n",
        "# >=75             First Class with Distinction\n",
        "# >=60 and <75     First Class\n",
        "# >=45 and <60     Second Class\n",
        "# >=40 and <45     Pass\n",
        "# <40              FAIL\n",
        "\n",
        "\n",
        "Marks = input(\"Enter Marks of 5 Subjects(Space Seperated):\").split()\n",
        "l1 = [float(x) for x in Marks]\n",
        "avg_marks = sum(l1)/len(l1)\n",
        "\n",
        "print(f\"Marks = {avg_marks}\")\n",
        "\n",
        "if(avg_marks >= 75):\n",
        "    print(\"First Class with Distinction\")\n",
        "elif(avg_marks >= 60 and avg_marks < 75):\n",
        "    print(\"First Class\")\n",
        "elif(avg_marks >= 45 and avg_marks < 60):\n",
        "    print(\"Second Class\")\n",
        "elif(avg_marks >= 40 and avg_marks < 45):\n",
        "    print(\"Pass\")\n",
        "else:\n",
        "    print(\"Fail !!\")\n",
        "\n",
        "\n"
      ]
    },
    {
      "cell_type": "code",
      "execution_count": 49,
      "metadata": {
        "id": "dL-ztTiADyOG"
      },
      "outputs": [
        {
          "name": "stdout",
          "output_type": "stream",
          "text": [
            "\n",
            " * \n",
            " *  * \n",
            " *  *  * \n",
            " *  *  *  * \n"
          ]
        }
      ],
      "source": [
        "# Program to print the following pattern\n",
        "\n",
        "# *\n",
        "# * *\n",
        "# * * *\n",
        "# * * * *\n",
        "\n",
        "\n",
        "i = 1\n",
        "while(i<=5):\n",
        "    j = 1\n",
        "    while(j<i):\n",
        "        print(\" * \",end='')\n",
        "        j = j + 1\n",
        "    i = i + 1\n",
        "    print()\n"
      ]
    },
    {
      "cell_type": "code",
      "execution_count": 50,
      "metadata": {},
      "outputs": [
        {
          "name": "stdout",
          "output_type": "stream",
          "text": [
            " * \n",
            " *  * \n",
            " *  *  * \n",
            " *  *  *  * \n"
          ]
        }
      ],
      "source": [
        "# Using For Loop\n",
        "\n",
        "for i in range(1,5):\n",
        "    for j in range(i):\n",
        "        print(\" * \",end='')\n",
        "    print()"
      ]
    },
    {
      "cell_type": "code",
      "execution_count": 56,
      "metadata": {
        "id": "Zjs2ABMTEJWt"
      },
      "outputs": [
        {
          "name": "stdout",
          "output_type": "stream",
          "text": [
            "6 x 1 = 6\n",
            "6 x 2 = 12\n",
            "6 x 3 = 18\n",
            "6 x 4 = 24\n",
            "6 x 5 = 30\n",
            "6 x 6 = 36\n",
            "6 x 7 = 42\n",
            "6 x 8 = 48\n",
            "6 x 9 = 54\n",
            "6 x 10 = 60\n"
          ]
        }
      ],
      "source": [
        "# Program to print the table of 6 I want O/P as in given format\n",
        "# 6 * 1 = 6\n",
        "# 6 * 2 = 12\n",
        "# 6 * 3 = 18\n",
        "# .\n",
        "# .\n",
        "# .\n",
        "# .\n",
        "# 6 * 10 = 60\n",
        "\n",
        "n = int(input(\"Enter Number:\"))\n",
        "i = 1\n",
        "while(i <= 10):\n",
        "    print(f\"{n} x {i} = {i * n}\")\n",
        "    i = i + 1\n",
        "\n",
        "\n"
      ]
    },
    {
      "cell_type": "code",
      "execution_count": 70,
      "metadata": {
        "id": "CJzIlTdSEXoH"
      },
      "outputs": [
        {
          "name": "stdout",
          "output_type": "stream",
          "text": [
            "{45}\n",
            "{32, 90, 45, 6}\n",
            "Unique:32\n",
            "Duplicate:45\n",
            "Unique:90\n",
            "Duplicate:45\n",
            "Unique:6\n"
          ]
        }
      ],
      "source": [
        "# Program which accpets 5 integers values and print \"DUPLICATES\" if any of the values entered are repeated otherwise it prints\n",
        "# \"ALL UNIQUE\" . Let 5 integers are (32 , 45 , 90 ,45 ,6 )\n",
        "#  Now you can se dupliactes is 45 and uniques are 32 , 90 , 6 so my output should be in below format\n",
        "\n",
        "# DUPLICATE : 45\n",
        "# UNIQUE : 32\n",
        "# UNIQUE : 90\n",
        "# UNIQUE  : 6\n",
        "\n",
        "nos = [32,45,90,45,6]\n",
        "\n",
        "duplicates = set()\n",
        "seen = set()\n",
        "\n",
        "for n in nos:\n",
        "    if(n in seen):\n",
        "        duplicates.add(n)\n",
        "    else:\n",
        "        seen.add(n)\n",
        "\n",
        "print(duplicates)\n",
        "print(seen)\n",
        "\n",
        "for i in nos:\n",
        "    if i in duplicates:\n",
        "        print(f\"Duplicate:{i}\")\n",
        "    else:\n",
        "        print(f\"Unique:{i}\")\n"
      ]
    },
    {
      "cell_type": "code",
      "execution_count": null,
      "metadata": {},
      "outputs": [],
      "source": []
    }
  ],
  "metadata": {
    "colab": {
      "provenance": []
    },
    "kernelspec": {
      "display_name": "Python 3",
      "name": "python3"
    },
    "language_info": {
      "codemirror_mode": {
        "name": "ipython",
        "version": 3
      },
      "file_extension": ".py",
      "mimetype": "text/x-python",
      "name": "python",
      "nbconvert_exporter": "python",
      "pygments_lexer": "ipython3",
      "version": "3.11.5"
    }
  },
  "nbformat": 4,
  "nbformat_minor": 0
}
