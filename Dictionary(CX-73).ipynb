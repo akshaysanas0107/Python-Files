{
  "cells": [
    {
      "cell_type": "code",
      "execution_count": 3,
      "metadata": {
        "colab": {
          "base_uri": "https://localhost:8080/"
        },
        "id": "ay-cOtwTtOSw",
        "outputId": "748c1fd7-4b20-44cb-e544-27641df8a07e"
      },
      "outputs": [
        {
          "name": "stdout",
          "output_type": "stream",
          "text": [
            "{}\n",
            "{1: 'Apple', 2: 'Mango', 3: 'PineApple'}\n",
            "{'Name': 'Hitesh', 1: [10, 20, 30, 40, 50]}\n"
          ]
        }
      ],
      "source": [
        "#Dictionary :--\n",
        "  # Its a collection of Key:Value pairs which is stored in {} braces\n",
        "\n",
        "Definition :-\n",
        "# Rather than using a index to identify a data value each item in a dictinary is stored as key value pair\n",
        "# data values in a dictionary is individually references:\n",
        "\n",
        "# Type of Dictionary :-\n",
        "\n",
        "# Empty dictionary\n",
        "\n",
        "d1 = {}\n",
        "print(d1)\n",
        "\n",
        "# With Integer Keys:-\n",
        "d2 = {1:\"Apple\" ,\n",
        "      2:\"Mango\",\n",
        "      3:\"PineApple\"}\n",
        "\n",
        "print(d2)\n",
        "\n",
        "#dictonary with mixed keys:-\n",
        "d3 = {\"Name\" :\"Hitesh\" ,\n",
        "      1:[10,20,30,40,50]}\n",
        "\n",
        "print(d3)"
      ]
    },
    {
      "cell_type": "code",
      "execution_count": 4,
      "metadata": {
        "colab": {
          "base_uri": "https://localhost:8080/"
        },
        "id": "gph0iqJ2vKP7",
        "outputId": "20d7a257-8ba8-4041-91de-c4858a1617d4"
      },
      "outputs": [
        {
          "name": "stdout",
          "output_type": "stream",
          "text": [
            "{1: 'Apple', 2: 'mango'}\n"
          ]
        }
      ],
      "source": [
        "#Creating a dictionary using dict():-\n",
        "di1 = dict({1:\"Apple\" , 2:\"mango\"})\n",
        "print(di1)\n"
      ]
    },
    {
      "cell_type": "code",
      "execution_count": 13,
      "metadata": {
        "colab": {
          "base_uri": "https://localhost:8080/"
        },
        "id": "bLJtLyqBvl6b",
        "outputId": "dbb223ef-ab53-430f-e427-3265fc47bac8"
      },
      "outputs": [
        {
          "name": "stdout",
          "output_type": "stream",
          "text": [
            "{'Name': 'Coachx', 'Location': 'Pune', 'pincode': 41101}\n",
            "Coachx\n",
            "Pune\n",
            "The keys of the dictionary are: ['Name', 'Location', 'pincode']\n",
            "Name\n",
            "Location\n",
            "pincode\n",
            "Name\n"
          ]
        }
      ],
      "source": [
        "#Accessing the values in a dictionary:-\n",
        "# If you want to access the values inside the dictionary you can access it through its keys using [] braces\n",
        "dict1 = {\"Name\":\"Coachx\",\n",
        "         \"Location\":\"Pune\",\n",
        "         \"pincode\":41101}\n",
        "\n",
        "print(dict1)\n",
        "print(dict1['Name'])\n",
        "\n",
        "print(dict1['Location'])\n",
        "\n",
        "\n",
        "#directly we cant able to access the keys in a dictionary:--\n",
        "\n",
        "key_list = list(dict1.keys())\n",
        "\n",
        "print(\"The keys of the dictionary are:\",key_list)\n",
        "\n",
        "\n",
        "for key in dict1:\n",
        "  print(key)\n",
        "\n",
        "\n",
        "specific_keys = 'Name'\n",
        "print(specific_keys)\n",
        "\n",
        "\n"
      ]
    },
    {
      "cell_type": "code",
      "execution_count": 40,
      "metadata": {
        "colab": {
          "base_uri": "https://localhost:8080/"
        },
        "id": "BSokcZiozn14",
        "outputId": "fb696503-e61c-4e61-d4dd-61a956227397"
      },
      "outputs": [
        {
          "name": "stdout",
          "output_type": "stream",
          "text": [
            "{'id': 'f6w7-q2d2', 'name': 'Electric Vehicle Population Data', 'assetType': 'dataset', 'attribution': 'Washington State Department of Licensing', 'averageRating': 0, 'category': 'Transportation', 'createdAt': 1555435581, 'description': 'This dataset shows the Battery Electric Vehicles (BEVs) and Plug-in Hybrid Electric Vehicles (PHEVs) that are currently registered through Washington State Department of Licensing (DOL).', 'displayType': 'table', 'downloadCount': 188620, 'hideFromCatalog': False, 'hideFromDataJson': False, 'licenseId': 'ODBL', 'newBackend': True, 'numberOfComments': 0, 'oid': 40088668, 'provenance': 'official', 'publicationAppendEnabled': False, 'publicationDate': 1697755470, 'publicationGroup': 16109923, 'publicationStage': 'published', 'rowsUpdatedAt': 1702593157, 'rowsUpdatedBy': 'nzip-b272', 'tableId': 19333331, 'totalTimesRated': 0, 'viewCount': 44706, 'viewLastModified': 1702593064, 'viewType': 'tabular'}\n",
            "id\n",
            "name\n",
            "assetType\n",
            "attribution\n",
            "averageRating\n",
            "category\n",
            "createdAt\n",
            "description\n",
            "displayType\n",
            "downloadCount\n",
            "hideFromCatalog\n",
            "hideFromDataJson\n",
            "licenseId\n",
            "newBackend\n",
            "numberOfComments\n",
            "oid\n",
            "provenance\n",
            "publicationAppendEnabled\n",
            "publicationDate\n",
            "publicationGroup\n",
            "publicationStage\n",
            "rowsUpdatedAt\n",
            "rowsUpdatedBy\n",
            "tableId\n",
            "totalTimesRated\n",
            "viewCount\n",
            "viewLastModified\n",
            "viewType\n",
            "Tha value of this particular key downloadCount is  1697755470\n"
          ]
        }
      ],
      "source": [
        "jsondata = {\n",
        "\n",
        "\n",
        "      \"id\" : \"f6w7-q2d2\",\n",
        "      \"name\" : \"Electric Vehicle Population Data\",\n",
        "      \"assetType\" : \"dataset\",\n",
        "      \"attribution\" : \"Washington State Department of Licensing\",\n",
        "      \"averageRating\" : 0,\n",
        "      \"category\" : \"Transportation\",\n",
        "      \"createdAt\" : 1555435581,\n",
        "      \"description\" : \"This dataset shows the Battery Electric Vehicles (BEVs) and Plug-in Hybrid Electric Vehicles (PHEVs) that are currently registered through Washington State Department of Licensing (DOL).\",\n",
        "      \"displayType\" : \"table\",\n",
        "      \"downloadCount\" : 188620,\n",
        "      \"hideFromCatalog\" : False,\n",
        "      \"hideFromDataJson\" : False,\n",
        "      \"licenseId\" : \"ODBL\",\n",
        "      \"newBackend\" : True,\n",
        "      \"numberOfComments\" : 0,\n",
        "      \"oid\" : 40088668,\n",
        "      \"provenance\" : \"official\",\n",
        "      \"publicationAppendEnabled\" : False,\n",
        "      \"publicationDate\" : 1697755470,\n",
        "      \"publicationGroup\" : 16109923,\n",
        "      \"publicationStage\" : \"published\",\n",
        "      \"rowsUpdatedAt\" : 1702593157,\n",
        "      \"rowsUpdatedBy\" : \"nzip-b272\",\n",
        "      \"tableId\" : 19333331,\n",
        "      \"totalTimesRated\" : 0,\n",
        "      \"viewCount\" : 44706,\n",
        "      \"viewLastModified\" : 1702593064,\n",
        "      \"viewType\" : \"tabular\",\n",
        "\n",
        "\n",
        "\n",
        "\n",
        "}\n",
        "print(jsondata)\n",
        "\n",
        "for key in jsondata:\n",
        "  print(key)\n",
        "\n",
        "\n",
        "\n",
        "\n",
        "\n",
        "\n",
        "print(\"Tha value of this particular key downloadCount is \" ,jsondata['publicationDate'])\n"
      ]
    },
    {
      "cell_type": "code",
      "execution_count": 24,
      "metadata": {
        "colab": {
          "base_uri": "https://localhost:8080/",
          "height": 35
        },
        "id": "lhFWibEq00Kb",
        "outputId": "6bf4a097-b556-4a69-bee1-5a28e2c937de"
      },
      "outputs": [
        {
          "data": {
            "application/vnd.google.colaboratory.intrinsic+json": {
              "type": "string"
            },
            "text/plain": [
              "'Washington State Department of Licensing'"
            ]
          },
          "execution_count": 24,
          "metadata": {},
          "output_type": "execute_result"
        }
      ],
      "source": [
        "# Using get() function we can able to access the  values:-\n",
        "d12 = {\n",
        "    \"id\" : \"f6w7-q2d2\",\n",
        "    \"name\" : \"Electric Vehicle Population Data\",\n",
        "    \"assetType\" : \"dataset\",\n",
        "    \"attribution\" : \"Washington State Department of Licensing\",\n",
        "    \"averageRating\" : 0,\n",
        "    \"category\" : \"Transportation\"\n",
        "\n",
        "}\n",
        "\n",
        "\n",
        "d12.get('attribution')"
      ]
    },
    {
      "cell_type": "code",
      "execution_count": 31,
      "metadata": {
        "colab": {
          "base_uri": "https://localhost:8080/"
        },
        "id": "Z-1v7yiB0msq",
        "outputId": "324f8f26-b84c-432a-83e4-02e8f0095a5d"
      },
      "outputs": [
        {
          "name": "stdout",
          "output_type": "stream",
          "text": [
            "{1: 1, 2: 4, 3: 9, 4: 16, 5: 25}\n",
            "(5, 25)\n",
            "{1: 1, 2: 4, 3: 9, 4: 16}\n",
            "4\n",
            "{1: 1, 3: 9, 4: 16}\n",
            "None\n",
            "{}\n"
          ]
        }
      ],
      "source": [
        "#Deleting the element from a dictionary :--\n",
        "# popitem() :- will delete the last entry(arbitrary items) in the dictionary:\n",
        "sq = {1:1, 2:4 , 3:9 , 4:16, 5:25 }\n",
        "print(sq)\n",
        "print(sq.popitem())\n",
        "print(sq)\n",
        "\n",
        "\n",
        "#pop():- wll remove the particular element from the dictionary\n",
        "print(sq.pop(2))\n",
        "\n",
        "print(sq)\n",
        "\n",
        "\n",
        "#clear() :- it will remove alll items in the dictionary\n",
        "print(sq.clear())\n",
        "print(sq)\n",
        "\n"
      ]
    },
    {
      "cell_type": "code",
      "execution_count": 38,
      "metadata": {
        "colab": {
          "base_uri": "https://localhost:8080/"
        },
        "id": "_O-PpFE_28EK",
        "outputId": "86ce0b50-f68d-4156-e6f6-b046b0f9b03b"
      },
      "outputs": [
        {
          "name": "stdout",
          "output_type": "stream",
          "text": [
            "{'id': 'f6w7-q2d2', 'name': 'Petrol Vehicle', 'assetType': 'dataset', 'attribution': 'Washington State Department of Licensing', 'averageRating': 0, 'category': 'Transportation'}\n",
            "Petrol Vehicle\n",
            "id\n",
            "name\n",
            "assetType\n",
            "attribution\n",
            "averageRating\n",
            "category\n",
            "address\n",
            "empty\n"
          ]
        }
      ],
      "source": [
        "#Updating a dictionary:--\n",
        "d1 = {\n",
        "    \"id\" : \"f6w7-q2d2\",\n",
        "    \"name\" : \"Electric Vehicle Population Data\",\n",
        "    \"assetType\" : \"dataset\",\n",
        "    \"attribution\" : \"Washington State Department of Licensing\",\n",
        "    \"averageRating\" : 0,\n",
        "    \"category\" : \"Transportation\"\n",
        "\n",
        "\n",
        "}\n",
        "\n",
        "\n",
        "#updating the values in dictionary using index:-\n",
        "d1['name'] = \"Petrol Vehicle\"\n",
        "print(d1)\n",
        "print(d1['name'])\n",
        "\n",
        "\n",
        "#Add a new item in the dictionary:--\n",
        "d1['address'] = 'Pune'\n",
        "\n",
        "d1['empty'] = ''\n",
        "\n",
        "for key in d1:\n",
        "  print(key)\n",
        "\n",
        "\n",
        "\n",
        "\n"
      ]
    },
    {
      "cell_type": "code",
      "execution_count": 49,
      "metadata": {
        "colab": {
          "base_uri": "https://localhost:8080/"
        },
        "id": "WNC4MG8Z4xpG",
        "outputId": "8458fad7-0bf6-47db-c743-9ec6d61298f1"
      },
      "outputs": [
        {
          "name": "stdout",
          "output_type": "stream",
          "text": [
            "{'id': 'f6w7-q2d2', 'name': 'Electric Vehicle Population Data', 'assetType': 'dataset', 'attribution': 'Washington State Department of Licensing', 'averageRating': 0, 'category': 'Transportation'}\n",
            "id:\"f6w7-q2d2\"\n",
            "name:\"Electric Vehicle Population Data\"\n",
            "assetType:\"dataset\"\n",
            "attribution:\"Washington State Department of Licensing\"\n",
            "averageRating:\"0\"\n",
            "category:\"Transportation\"\n"
          ]
        }
      ],
      "source": [
        "#Basic Operation on a dictionary :--\n",
        "\n",
        "#traversing of the data :-\n",
        "data = {\n",
        "    \"id\" : \"f6w7-q2d2\",\n",
        "    \"name\" : \"Electric Vehicle Population Data\",\n",
        "    \"assetType\" : \"dataset\",\n",
        "    \"attribution\" : \"Washington State Department of Licensing\",\n",
        "    \"averageRating\" : 0,\n",
        "    \"category\" : \"Transportation\"\n",
        "\n",
        "\n",
        "}\n",
        "print(data)\n",
        "\n",
        "for i in data:\n",
        "  print(i,   data[i])\n",
        "\n",
        "\n",
        "\n",
        "# Double Quoted:-\n",
        "for key , value in data.items():\n",
        "  print(f\"{key}:\\\"{value}\\\"\")\n",
        "\n",
        "\n",
        "# for variable in sequence:\n",
        "#   print(variables)\n",
        "\n"
      ]
    },
    {
      "cell_type": "code",
      "execution_count": 51,
      "metadata": {
        "colab": {
          "base_uri": "https://localhost:8080/"
        },
        "id": "JSV-w-GY7Aaf",
        "outputId": "d6e48cd6-c99f-443a-c854-17f636dc1569"
      },
      "outputs": [
        {
          "name": "stdout",
          "output_type": "stream",
          "text": [
            "the value of a  is  10 and value of b is  20\n",
            "The value of a is 10 and the value of b is 20\n"
          ]
        }
      ],
      "source": [
        "\n",
        "\n",
        "a = 10\n",
        "b = 20\n",
        "print(\"the value of a  is \", a , \"and value of b is \", b)\n",
        "\n",
        "print(\"The value of a is {} and the value of b is {}\".format(a,b))"
      ]
    },
    {
      "cell_type": "code",
      "execution_count": 56,
      "metadata": {
        "colab": {
          "base_uri": "https://localhost:8080/"
        },
        "id": "RtrdNrM_638O",
        "outputId": "0db7f8b7-3d77-4523-bf4f-86fe1b4b0e3c"
      },
      "outputs": [
        {
          "name": "stdout",
          "output_type": "stream",
          "text": [
            "id\n",
            "name\n",
            "assetType\n",
            "attribution\n",
            "averageRating\n",
            "category\n",
            " The value of key 'attribution' is : Washington State Department of Licensing\n"
          ]
        }
      ],
      "source": [
        "#Membership Operator:--\n",
        "\n",
        "datas = {\n",
        "\n",
        "    \"id\" : \"f6w7-q2d2\",\n",
        "    \"name\" : \"Electric Vehicle Population Data\",\n",
        "    \"assetType\" : \"dataset\",\n",
        "    \"attribution\" : \"Washington State Department of Licensing\",\n",
        "    \"averageRating\" : 0,\n",
        "    \"category\" : \"Transportation\"\n",
        "}\n",
        "\n",
        "for i in datas:\n",
        "  print(i)\n",
        "\n",
        "\n"
      ]
    },
    {
      "cell_type": "code",
      "execution_count": 58,
      "metadata": {
        "colab": {
          "base_uri": "https://localhost:8080/"
        },
        "id": "C9HwmKZ39wOC",
        "outputId": "7d296e9a-f679-4ff4-e6ba-ab9c7adf1bf2"
      },
      "outputs": [
        {
          "name": "stdout",
          "output_type": "stream",
          "text": [
            "True\n",
            " The value of key 'attribution' is : Washington State Department of Licensing\n"
          ]
        }
      ],
      "source": [
        "#Checking the values of  a particular key\n",
        "\n",
        "print('attribution' in datas)\n",
        "\n",
        "\n",
        "specific_key = 'attribution'\n",
        "\n",
        "if specific_key in datas:\n",
        "  values_of_specific_key = datas[specific_key]\n",
        "  print(f\" The value of key '{specific_key}' is : {values_of_specific_key}\")\n",
        "else:\n",
        "  print(f\"Key '{specific_key}' is not found\")\n",
        "\n"
      ]
    },
    {
      "cell_type": "code",
      "execution_count": 57,
      "metadata": {
        "colab": {
          "base_uri": "https://localhost:8080/"
        },
        "id": "v4Kj6BFK9dfk",
        "outputId": "9fbe53f4-a3ef-4613-beba-39518d6e3516"
      },
      "outputs": [
        {
          "name": "stdout",
          "output_type": "stream",
          "text": [
            " The value of key 'attribution' is : Washington State Department of Licensing\n"
          ]
        }
      ],
      "source": [
        "specific_key = 'attribution'\n",
        "values_of_specific_key = datas.get(specific_key)\n",
        "\n",
        "\n",
        "if specific_key is not None:\n",
        "  print(f\" The value of key '{specific_key}' is : {values_of_specific_key}\")\n",
        "else:\n",
        "  print(f\"Key '{specific_key}' is not found\")"
      ]
    },
    {
      "cell_type": "code",
      "execution_count": 59,
      "metadata": {
        "colab": {
          "base_uri": "https://localhost:8080/"
        },
        "id": "GDE_niBr9MWJ",
        "outputId": "ef0a53cc-db2f-48da-eb77-2a74a89d41ca"
      },
      "outputs": [
        {
          "name": "stdout",
          "output_type": "stream",
          "text": [
            "dict_values(['f6w7-q2d2', 'Electric Vehicle Population Data', 'dataset', 'Washington State Department of Licensing', 0, 'Transportation'])\n"
          ]
        }
      ],
      "source": [
        "#How to Access all values from a dictionary:--\n",
        "\n",
        "print(datas.values())"
      ]
    },
    {
      "cell_type": "code",
      "execution_count": 60,
      "metadata": {
        "colab": {
          "base_uri": "https://localhost:8080/"
        },
        "id": "NFH21CbY-Vtd",
        "outputId": "8e905cb9-bfc2-46a5-903d-354d410c0c92"
      },
      "outputs": [
        {
          "data": {
            "text/plain": [
              "6"
            ]
          },
          "execution_count": 60,
          "metadata": {},
          "output_type": "execute_result"
        }
      ],
      "source": [
        "#To find the length of the dictonary:--\n",
        "\n",
        "len(datas)"
      ]
    },
    {
      "cell_type": "code",
      "execution_count": 61,
      "metadata": {
        "colab": {
          "base_uri": "https://localhost:8080/"
        },
        "id": "XMnewHe9-qts",
        "outputId": "b47e083a-bf76-48af-dd30-4ac09737a806"
      },
      "outputs": [
        {
          "name": "stdout",
          "output_type": "stream",
          "text": [
            "['assetType', 'attribution', 'averageRating', 'category', 'id', 'name']\n"
          ]
        }
      ],
      "source": [
        "#Sorting if the dictionary:-\n",
        "\n",
        "print(sorted(datas))\n",
        "\n",
        "\n"
      ]
    },
    {
      "cell_type": "code",
      "execution_count": 5,
      "metadata": {
        "id": "O37C8SML--N1"
      },
      "outputs": [
        {
          "data": {
            "text/plain": [
              "{'id': 102, 'name': 'Akshay', 'Branch': 'Comp'}"
            ]
          },
          "execution_count": 5,
          "metadata": {},
          "output_type": "execute_result"
        }
      ],
      "source": [
        "#Assingment :--\n",
        "# Find atleast 5 inbuilt functions related to dictionary :-\n",
        "\n",
        "d = {'id':102,\n",
        "     'name':'Akshay',\n",
        "     'Branch':'Comp'\n",
        "     }\n",
        "\n",
        "d\n"
      ]
    },
    {
      "cell_type": "code",
      "execution_count": 6,
      "metadata": {},
      "outputs": [
        {
          "data": {
            "text/plain": [
              "{'id': 102, 'name': 'Akshay', 'Branch': 'Comp'}"
            ]
          },
          "execution_count": 6,
          "metadata": {},
          "output_type": "execute_result"
        }
      ],
      "source": [
        "d2 = d.copy()\n",
        "d2"
      ]
    },
    {
      "cell_type": "code",
      "execution_count": 17,
      "metadata": {},
      "outputs": [
        {
          "name": "stdout",
          "output_type": "stream",
          "text": [
            "dict_items([('id', 102), ('name', 'Akshay'), ('Branch', 'Comp')])\n"
          ]
        }
      ],
      "source": [
        "print(d.items())  # returns a list of all items in dictionary"
      ]
    },
    {
      "cell_type": "code",
      "execution_count": 18,
      "metadata": {},
      "outputs": [
        {
          "data": {
            "text/plain": [
              "{'id': 102, 'name': 'Akshay', 'Branch': 'Comp', 'year': 2022}"
            ]
          },
          "execution_count": 18,
          "metadata": {},
          "output_type": "execute_result"
        }
      ],
      "source": [
        "d.update({'year':2022})\n",
        "d"
      ]
    },
    {
      "cell_type": "code",
      "execution_count": 19,
      "metadata": {},
      "outputs": [
        {
          "data": {
            "text/plain": [
              "dict_keys(['id', 'name', 'Branch', 'year'])"
            ]
          },
          "execution_count": 19,
          "metadata": {},
          "output_type": "execute_result"
        }
      ],
      "source": [
        "d.keys()"
      ]
    },
    {
      "cell_type": "code",
      "execution_count": 20,
      "metadata": {},
      "outputs": [
        {
          "data": {
            "text/plain": [
              "dict_values([102, 'Akshay', 'Comp', 2022])"
            ]
          },
          "execution_count": 20,
          "metadata": {},
          "output_type": "execute_result"
        }
      ],
      "source": [
        "d.values()"
      ]
    },
    {
      "cell_type": "code",
      "execution_count": 26,
      "metadata": {},
      "outputs": [
        {
          "data": {
            "text/plain": [
              "{'id': 102,\n",
              " 'name': 'Akshay',\n",
              " 'Branch': 'Comp',\n",
              " 'year': 2022,\n",
              " 'month': 'January'}"
            ]
          },
          "execution_count": 26,
          "metadata": {},
          "output_type": "execute_result"
        }
      ],
      "source": [
        "#The setdefault() method returns the value of the item with the specified key.\n",
        "\n",
        "# If the key does not exist, insert the key, with the specified value\n",
        "\n",
        "d.setdefault('month','January')  \n",
        "d"
      ]
    },
    {
      "cell_type": "code",
      "execution_count": 25,
      "metadata": {},
      "outputs": [
        {
          "data": {
            "text/plain": [
              "'January'"
            ]
          },
          "execution_count": 25,
          "metadata": {},
          "output_type": "execute_result"
        }
      ],
      "source": [
        "d['month']"
      ]
    },
    {
      "cell_type": "code",
      "execution_count": null,
      "metadata": {},
      "outputs": [],
      "source": []
    }
  ],
  "metadata": {
    "colab": {
      "provenance": []
    },
    "kernelspec": {
      "display_name": "Python 3",
      "name": "python3"
    },
    "language_info": {
      "codemirror_mode": {
        "name": "ipython",
        "version": 3
      },
      "file_extension": ".py",
      "mimetype": "text/x-python",
      "name": "python",
      "nbconvert_exporter": "python",
      "pygments_lexer": "ipython3",
      "version": "3.11.5"
    }
  },
  "nbformat": 4,
  "nbformat_minor": 0
}
